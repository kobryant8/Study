{
 "cells": [
  {
   "cell_type": "code",
   "execution_count": 1,
   "id": "14c7da78",
   "metadata": {},
   "outputs": [
    {
     "name": "stdout",
     "output_type": "stream",
     "text": [
      "1 1\n"
     ]
    }
   ],
   "source": [
    "전역변수 = 1\n",
    "\n",
    "def 함수(지역변수):\n",
    "    print(전역변수, 지역변수)\n",
    "    \n",
    "함수(전역변수)\n",
    "#print(전역변수, 지역변수)"
   ]
  },
  {
   "cell_type": "code",
   "execution_count": 2,
   "id": "532e9dbe",
   "metadata": {},
   "outputs": [
    {
     "name": "stdout",
     "output_type": "stream",
     "text": [
      "2 1\n",
      "3\n"
     ]
    }
   ],
   "source": [
    "a = 1\n",
    "b = 2\n",
    "\n",
    "def 더하기(a,b):\n",
    "    print(a,b)\n",
    "    return a + b\n",
    "\n",
    "print(더하기(b,a))"
   ]
  },
  {
   "cell_type": "code",
   "execution_count": null,
   "id": "29ae3b66",
   "metadata": {},
   "outputs": [],
   "source": [
    "#문1) 1차원 배열(리스트)의 값의 평균값을 구하시오, 단 함수를 이용하세요.\n",
    "arr1 = [80,76,63,83,99,87,100,42,68,55] "
   ]
  },
  {
   "cell_type": "code",
   "execution_count": 13,
   "id": "78b04582",
   "metadata": {},
   "outputs": [
    {
     "name": "stdout",
     "output_type": "stream",
     "text": [
      "75.3\n"
     ]
    }
   ],
   "source": [
    "arr1 = [80,76,63,83,99,87,100,42,68,55]\n",
    "\n",
    "def 평균값(list):\n",
    "    # 평균값 구하는 코드를 넣어주세요.\n",
    "    합 = 0\n",
    "    개수 = 0\n",
    "    for i in list:\n",
    "        합 += i\n",
    "        개수 += 1\n",
    "    return 합 / 개수\n",
    "            \n",
    "print(평균값(arr1))\n",
    "\n",
    "\n"
   ]
  },
  {
   "cell_type": "code",
   "execution_count": 14,
   "id": "92f3bd2a",
   "metadata": {},
   "outputs": [
    {
     "name": "stdout",
     "output_type": "stream",
     "text": [
      "75.3\n"
     ]
    }
   ],
   "source": [
    "arr1 = [80,76,63,83,99,87,100,42,68,55]\n",
    "\n",
    "def  평균값(list):\n",
    "    return sum(list) / len(list)\n",
    "\n",
    "print(평균값(arr1))"
   ]
  },
  {
   "cell_type": "code",
   "execution_count": null,
   "id": "375fdeab",
   "metadata": {},
   "outputs": [],
   "source": [
    "문2) 2차원 배열의 표에서 가장 점수가 높은 학생을 구하시오, 단 함수를 이용하세요."
   ]
  },
  {
   "cell_type": "code",
   "execution_count": 26,
   "id": "1afd161a",
   "metadata": {},
   "outputs": [
    {
     "name": "stdout",
     "output_type": "stream",
     "text": [
      "('강감찬', 99)\n"
     ]
    }
   ],
   "source": [
    "arr2 = [\n",
    "    [\"홍길동\", 80],\n",
    "    [\"류관순\", 76],\n",
    "    [\"강감찬\", 99],\n",
    "    [\"이성계\", 87],\n",
    "    [\"이황\", 68]\n",
    "]\n",
    "\n",
    "def 점수확인(student_list):\n",
    "    max_score = 0\n",
    "    top_student = \"\"\n",
    "    \n",
    "    for student in student_list:\n",
    "        name, score = student[0], student[1]\n",
    "        if score > max_score:\n",
    "            max_score = score\n",
    "            top_student = name\n",
    "            \n",
    "    return top_student, max_score\n",
    "\n",
    "print(점수확인(arr2))"
   ]
  },
  {
   "cell_type": "code",
   "execution_count": null,
   "id": "72bc5d39",
   "metadata": {},
   "outputs": [],
   "source": [
    "문3) 2차원 배열의 표에서 평균 값을 구한 후 평균 값 이상인 학생만 구하시오, 단 함수를 이용하세요."
   ]
  },
  {
   "cell_type": "code",
   "execution_count": 1,
   "id": "a4173e96",
   "metadata": {},
   "outputs": [
    {
     "ename": "NameError",
     "evalue": "name 'arr2' is not defined",
     "output_type": "error",
     "traceback": [
      "\u001b[31m---------------------------------------------------------------------------\u001b[39m",
      "\u001b[31mNameError\u001b[39m                                 Traceback (most recent call last)",
      "\u001b[36mCell\u001b[39m\u001b[36m \u001b[39m\u001b[32mIn[1]\u001b[39m\u001b[32m, line 25\u001b[39m\n\u001b[32m     22\u001b[39m     \u001b[38;5;28;01mreturn\u001b[39;00m result, average\n\u001b[32m     24\u001b[39m \u001b[38;5;66;03m# 함수 호출 및 출력\u001b[39;00m\n\u001b[32m---> \u001b[39m\u001b[32m25\u001b[39m students, avg = 평균이상학생(\u001b[43marr2\u001b[49m)\n\u001b[32m     27\u001b[39m \u001b[38;5;28mprint\u001b[39m(\u001b[33mf\u001b[39m\u001b[33m\"\u001b[39m\u001b[33m평균 점수는 \u001b[39m\u001b[38;5;132;01m{\u001b[39;00mavg\u001b[38;5;132;01m:\u001b[39;00m\u001b[33m.2f\u001b[39m\u001b[38;5;132;01m}\u001b[39;00m\u001b[33m점입니다.\u001b[39m\u001b[33m\"\u001b[39m)\n\u001b[32m     28\u001b[39m \u001b[38;5;28mprint\u001b[39m(\u001b[33m\"\u001b[39m\u001b[33m평균 이상인 학생 목록:\u001b[39m\u001b[33m\"\u001b[39m)\n",
      "\u001b[31mNameError\u001b[39m: name 'arr2' is not defined"
     ]
    }
   ],
   "source": [
    "arr3 = [\n",
    "    [\"홍길동\", 80],\n",
    "    [\"류관순\", 76],\n",
    "    [\"강감찬\", 99],\n",
    "    [\"이성계\", 87],\n",
    "    [\"이황\", 68]\n",
    "]\n",
    "\n",
    "def 평균이상학생(학생리스트):\n",
    "    # 1. 전체 평균 점수 구하기\n",
    "    total = 0\n",
    "    for student in 학생리스트:\n",
    "        total += student[1]\n",
    "    average = total / len(학생리스트)\n",
    "    \n",
    "    # 2. 평균 이상인 학생 필터링\n",
    "    result = []\n",
    "    for student in 학생리스트:\n",
    "        if student[1] >= average:\n",
    "            result.append(student)\n",
    "    \n",
    "    return result, average\n",
    "\n",
    "# 함수 호출 및 출력\n",
    "students, avg = 평균이상학생(arr2)\n",
    "\n",
    "print(f\"평균 점수는 {avg:.2f}점입니다.\")\n",
    "print(\"평균 이상인 학생 목록:\")\n",
    "for name, score in students:\n",
    "    print(f\"{name}: {score}점\")"
   ]
  },
  {
   "cell_type": "code",
   "execution_count": null,
   "id": "7bebbb68",
   "metadata": {},
   "outputs": [],
   "source": [
    "문4) 배열에서 홀수와 짝수를 따로 반환해 각 배열을 오름차순 정렬하여 출력한 뒤, 각 배열의 평균값을 구하시오."
   ]
  },
  {
   "cell_type": "code",
   "execution_count": 35,
   "id": "f541d25d",
   "metadata": {},
   "outputs": [
    {
     "name": "stdout",
     "output_type": "stream",
     "text": [
      "홀수: [5, 15, 35, 47, 47, 55, 79, 87]\n",
      "짝수: [12, 18, 24, 44, 98]\n",
      "홀수 평균: 46.25\n",
      "짝수 평균: 39.20\n"
     ]
    }
   ],
   "source": [
    "arr4 = [18, 44, 87, 35, 15, 24, 79, 12, 55, 47, 47, 98, 5]\n",
    "홀수 = []\n",
    "짝수 = []\n",
    "\n",
    "# 1. 홀수와 짝수 분리\n",
    "for num in arr4:\n",
    "    if num % 2 == 1:\n",
    "        홀수.append(num)\n",
    "    else:\n",
    "        짝수.append(num)\n",
    "\n",
    "# 2. 정렬\n",
    "홀수.sort()\n",
    "짝수.sort()\n",
    "\n",
    "# 3. 평균값 계산 (0으로 나누는 오류 방지 포함)\n",
    "홀수평균 = sum(홀수) / len(홀수) if 홀수 else 0\n",
    "짝수평균 = sum(짝수) / len(짝수) if 짝수 else 0\n",
    "\n",
    "# 4. 출력\n",
    "print(\"홀수:\", 홀수)\n",
    "print(\"짝수:\", 짝수)\n",
    "print(f\"홀수 평균: {홀수평균:.2f}\")\n",
    "print(f\"짝수 평균: {짝수평균:.2f}\")"
   ]
  },
  {
   "cell_type": "code",
   "execution_count": null,
   "id": "5704b823",
   "metadata": {},
   "outputs": [],
   "source": [
    "문5) 2차원 배열의 표에서 점수 평균을 구하시고, 가장 점수가 높은 학생과 가장 점수가 낮은 학생을 구하시오."
   ]
  },
  {
   "cell_type": "code",
   "execution_count": 36,
   "id": "a90690c5",
   "metadata": {},
   "outputs": [
    {
     "name": "stdout",
     "output_type": "stream",
     "text": [
      "평균 점수: 83.40\n",
      "가장 높은 점수: B - 93점\n",
      "가장 낮은 점수: C - 75점\n"
     ]
    }
   ],
   "source": [
    "arr5 = [\n",
    "    [\"A\", 79],\n",
    "    [\"B\", 93],\n",
    "    [\"C\", 75],\n",
    "    [\"D\", 89],\n",
    "    [\"E\", 81],\n",
    "]\n",
    "\n",
    "def 평균값(student_list):\n",
    "    total = 0\n",
    "    max_student = student_list[0]\n",
    "    min_student = student_list[0]\n",
    "    \n",
    "    for student in student_list:\n",
    "        name, score = student\n",
    "        total += score\n",
    "        \n",
    "        if score > max_student[1]:\n",
    "            max_student = student\n",
    "        if score < min_student[1]:\n",
    "            min_student = student\n",
    "\n",
    "    average = total / len(student_list)\n",
    "    return average, max_student, min_student\n",
    "\n",
    "# 함수 호출\n",
    "avg, top, bottom = 평균값(arr5)\n",
    "\n",
    "# 출력\n",
    "print(f\"평균 점수: {avg:.2f}\")\n",
    "print(f\"가장 높은 점수: {top[0]} - {top[1]}점\")\n",
    "print(f\"가장 낮은 점수: {bottom[0]} - {bottom[1]}점\")"
   ]
  }
 ],
 "metadata": {
  "kernelspec": {
   "display_name": "Python 3",
   "language": "python",
   "name": "python3"
  },
  "language_info": {
   "codemirror_mode": {
    "name": "ipython",
    "version": 3
   },
   "file_extension": ".py",
   "mimetype": "text/x-python",
   "name": "python",
   "nbconvert_exporter": "python",
   "pygments_lexer": "ipython3",
   "version": "3.13.5"
  }
 },
 "nbformat": 4,
 "nbformat_minor": 5
}
