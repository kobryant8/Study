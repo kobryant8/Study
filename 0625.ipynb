{
 "cells": [
  {
   "cell_type": "code",
   "execution_count": 1,
   "id": "b3411c0e",
   "metadata": {},
   "outputs": [
    {
     "name": "stdout",
     "output_type": "stream",
     "text": [
      "<class 'list'>\n",
      "<class 'tuple'>\n"
     ]
    }
   ],
   "source": [
    "a = []\n",
    "b = ()\n",
    "print(type(a))\n",
    "print(type(b))"
   ]
  },
  {
   "cell_type": "code",
   "execution_count": 2,
   "id": "73860665",
   "metadata": {},
   "outputs": [
    {
     "name": "stdout",
     "output_type": "stream",
     "text": [
      "[1]\n"
     ]
    }
   ],
   "source": [
    "a.append(1)\n",
    "print(a)"
   ]
  },
  {
   "cell_type": "code",
   "execution_count": 4,
   "id": "41f1ab0e",
   "metadata": {},
   "outputs": [
    {
     "ename": "AttributeError",
     "evalue": "'tuple' object has no attribute 'append'",
     "output_type": "error",
     "traceback": [
      "\u001b[31m---------------------------------------------------------------------------\u001b[39m",
      "\u001b[31mAttributeError\u001b[39m                            Traceback (most recent call last)",
      "\u001b[36mCell\u001b[39m\u001b[36m \u001b[39m\u001b[32mIn[4]\u001b[39m\u001b[32m, line 1\u001b[39m\n\u001b[32m----> \u001b[39m\u001b[32m1\u001b[39m \u001b[43mb\u001b[49m\u001b[43m.\u001b[49m\u001b[43mappend\u001b[49m(\u001b[32m1\u001b[39m)\n\u001b[32m      2\u001b[39m \u001b[38;5;28mprint\u001b[39m(b)\n",
      "\u001b[31mAttributeError\u001b[39m: 'tuple' object has no attribute 'append'"
     ]
    }
   ],
   "source": [
    "b.append(1)\n",
    "print(b)"
   ]
  },
  {
   "cell_type": "code",
   "execution_count": 5,
   "id": "5886d4f1",
   "metadata": {},
   "outputs": [
    {
     "name": "stdout",
     "output_type": "stream",
     "text": [
      "(1, 2, 3)\n"
     ]
    }
   ],
   "source": [
    "b = (1,2,3)\n",
    "print(b)"
   ]
  },
  {
   "cell_type": "code",
   "execution_count": 6,
   "id": "2cf8780c",
   "metadata": {},
   "outputs": [
    {
     "name": "stdout",
     "output_type": "stream",
     "text": [
      "10\n"
     ]
    }
   ],
   "source": [
    "a[0] = 10\n",
    "print(a[0])"
   ]
  },
  {
   "cell_type": "code",
   "execution_count": 7,
   "id": "e5ffffc6",
   "metadata": {},
   "outputs": [
    {
     "name": "stdout",
     "output_type": "stream",
     "text": [
      "1\n"
     ]
    }
   ],
   "source": [
    "# b[0] = 10\n",
    "print(b[0])"
   ]
  },
  {
   "cell_type": "code",
   "execution_count": 15,
   "id": "fd844d14",
   "metadata": {},
   "outputs": [
    {
     "name": "stderr",
     "output_type": "stream",
     "text": [
      "<>:1: SyntaxWarning: 'int' object is not callable; perhaps you missed a comma?\n",
      "C:\\Users\\hi\\AppData\\Local\\Temp\\ipykernel_9096\\2575326996.py:1: SyntaxWarning: 'int' object is not callable; perhaps you missed a comma?\n",
      "  a = [1,2(3,4,5),6,7]\n"
     ]
    },
    {
     "ename": "TypeError",
     "evalue": "'int' object is not callable",
     "output_type": "error",
     "traceback": [
      "\u001b[31m---------------------------------------------------------------------------\u001b[39m",
      "\u001b[31mTypeError\u001b[39m                                 Traceback (most recent call last)",
      "\u001b[36mCell\u001b[39m\u001b[36m \u001b[39m\u001b[32mIn[15]\u001b[39m\u001b[32m, line 1\u001b[39m\n\u001b[32m----> \u001b[39m\u001b[32m1\u001b[39m a = [\u001b[32m1\u001b[39m,\u001b[32;43m2\u001b[39;49m\u001b[43m(\u001b[49m\u001b[32;43m3\u001b[39;49m\u001b[43m,\u001b[49m\u001b[32;43m4\u001b[39;49m\u001b[43m,\u001b[49m\u001b[32;43m5\u001b[39;49m\u001b[43m)\u001b[49m,\u001b[32m6\u001b[39m,\u001b[32m7\u001b[39m]\n\u001b[32m      2\u001b[39m a[\u001b[32m0\u001b[39m] = \u001b[32m10\u001b[39m\n\u001b[32m      3\u001b[39m a[\u001b[32m1\u001b[39m] = \u001b[32m20\u001b[39m\n",
      "\u001b[31mTypeError\u001b[39m: 'int' object is not callable"
     ]
    }
   ],
   "source": [
    "a = [1,2(3,4,5),6,7]\n",
    "a[0] = 10\n",
    "a[1] = 20\n",
    "# a[2] = 30\n",
    "a[3] = 60\n",
    "a[4] = 70\n",
    "print(type(a[2]))\n",
    "a[2][0] = 30\n",
    "print(a)\n"
   ]
  },
  {
   "cell_type": "code",
   "execution_count": 16,
   "id": "67417039",
   "metadata": {},
   "outputs": [
    {
     "ename": "TypeError",
     "evalue": "'tuple' object does not support item assignment",
     "output_type": "error",
     "traceback": [
      "\u001b[31m---------------------------------------------------------------------------\u001b[39m",
      "\u001b[31mTypeError\u001b[39m                                 Traceback (most recent call last)",
      "\u001b[36mCell\u001b[39m\u001b[36m \u001b[39m\u001b[32mIn[16]\u001b[39m\u001b[32m, line 2\u001b[39m\n\u001b[32m      1\u001b[39m b = (\u001b[32m1\u001b[39m,\u001b[32m2\u001b[39m,[\u001b[32m3\u001b[39m,\u001b[32m4\u001b[39m,\u001b[32m5\u001b[39m],\u001b[32m6\u001b[39m,\u001b[32m7\u001b[39m)\n\u001b[32m----> \u001b[39m\u001b[32m2\u001b[39m \u001b[43mb\u001b[49m\u001b[43m[\u001b[49m\u001b[32;43m0\u001b[39;49m\u001b[43m]\u001b[49m = \u001b[32m10\u001b[39m\n\u001b[32m      3\u001b[39m b[\u001b[32m1\u001b[39m] = \u001b[32m20\u001b[39m\n\u001b[32m      4\u001b[39m b[\u001b[32m2\u001b[39m] = \u001b[32m30\u001b[39m\n",
      "\u001b[31mTypeError\u001b[39m: 'tuple' object does not support item assignment"
     ]
    }
   ],
   "source": [
    "b = (1,2,[3,4,5],6,7)\n",
    "b[0] = 10\n",
    "b[1] = 20\n",
    "b[2] = 30\n",
    "b[3] = 60\n",
    "b[4] = 70"
   ]
  },
  {
   "cell_type": "code",
   "execution_count": 12,
   "id": "3dcae42e",
   "metadata": {},
   "outputs": [
    {
     "name": "stdout",
     "output_type": "stream",
     "text": [
      "[3, 4, 5]\n",
      "<class 'list'>\n",
      "3\n",
      "30\n",
      "(1, 2, [30, 4, 5], 6, 7)\n"
     ]
    }
   ],
   "source": [
    "b = (1,2,[3,4,5],6,7)\n",
    "print(b[2])\n",
    "print(type(b[2]))\n",
    "\n",
    "print(b[2][0])\n",
    "b[2][0] = 30\n",
    "print(b[2][0])\n",
    "print(b)"
   ]
  },
  {
   "cell_type": "code",
   "execution_count": null,
   "id": "7b25de55",
   "metadata": {},
   "outputs": [],
   "source": [
    "문1) 다음 데이터에서 각각 두번째 자리의 값만 출력 할 수 있도록 코드를 작성하세요. 데이터 > [(1,'대'),(2,'한'),(3,'민'),(4,'국')] 출력 예시 > 대 한 민 국"
   ]
  },
  {
   "cell_type": "code",
   "execution_count": 34,
   "id": "d92d3711",
   "metadata": {},
   "outputs": [
    {
     "name": "stdout",
     "output_type": "stream",
     "text": [
      "대 한 민 국\n"
     ]
    }
   ],
   "source": [
    "a = [(1,'대'),(2,'한'),(3,'민'),(4,'국')]\n",
    "print((a[0][1]),(a[1][1]),(a[2][1]),(a[3][1]))"
   ]
  },
  {
   "cell_type": "code",
   "execution_count": null,
   "id": "6d7996e6",
   "metadata": {},
   "outputs": [],
   "source": [
    "문2) 다음 데이터에서 3번째 자리의 값을 리스트 자료형으로 '1 ~ 9' 까지 나열되도록 출력하세요. 데이터 > [1,2,3,4,5] 출력 예시 > [1,2,[1,2,3,4,5,6,7,8,9],4,5]"
   ]
  },
  {
   "cell_type": "code",
   "execution_count": 36,
   "id": "9c108d82",
   "metadata": {},
   "outputs": [
    {
     "name": "stdout",
     "output_type": "stream",
     "text": [
      "[1, 2, [1, 2, 3, 4, 5, 6, 7, 8, 9], 4, 5]\n",
      "[1, 2, 3, 4, 5, 6, 7, 8, 9]\n"
     ]
    }
   ],
   "source": [
    "a = [1,2,3,4,5]\n",
    "a[2] = [1,2,3,4,5,6,7,8,9]\n",
    "print(a)\n",
    "print(a[2])"
   ]
  },
  {
   "cell_type": "code",
   "execution_count": 47,
   "id": "3c860db0",
   "metadata": {},
   "outputs": [
    {
     "name": "stdout",
     "output_type": "stream",
     "text": [
      "대 한 민 국 \n"
     ]
    }
   ],
   "source": [
    "문자열 = ''\n",
    "for d1 in [(1,'대'),(2,'한'),(3,'민'),(4,'국')]:\n",
    "     문자열 += d1[1] + ' '\n",
    "print(문자열)"
   ]
  },
  {
   "cell_type": "code",
   "execution_count": 49,
   "id": "b4198bb4",
   "metadata": {},
   "outputs": [
    {
     "name": "stdout",
     "output_type": "stream",
     "text": [
      "[1, 2, [1, 2, 3, 4, 5, 6, 7, 8, 9], 4, 5]\n"
     ]
    }
   ],
   "source": [
    "데이터 = [1,2,3,4,5]\n",
    "배열 = []\n",
    "for 값 in range (1,10):\n",
    "    배열.append(값)\n",
    "    \n",
    "데이터[2] = 배열\n",
    "print(데이터)"
   ]
  },
  {
   "cell_type": "code",
   "execution_count": 8,
   "id": "c64b83a5",
   "metadata": {},
   "outputs": [
    {
     "name": "stdout",
     "output_type": "stream",
     "text": [
      "O\n",
      "OX\n",
      "OXX\n",
      "OXXX\n",
      "OXXXX\n",
      "O\n",
      "OO\n",
      "OOX\n",
      "OOXX\n",
      "OOXXX\n",
      "O\n",
      "OO\n",
      "OOO\n",
      "OOOX\n",
      "OOOXX\n",
      "O\n",
      "OO\n",
      "OOO\n",
      "OOOO\n",
      "OOOOX\n",
      "O\n",
      "OO\n",
      "OOO\n",
      "OOOO\n",
      "OOOOO\n"
     ]
    }
   ],
   "source": [
    "for y in range(5):\n",
    "    행 = ''\n",
    "    for x in range(5):\n",
    "        행 += 'O' if x < (y + 1) else 'X'\n",
    "        print(행)"
   ]
  },
  {
   "cell_type": "code",
   "execution_count": 7,
   "id": "f62b19b5",
   "metadata": {},
   "outputs": [
    {
     "name": "stdout",
     "output_type": "stream",
     "text": [
      "O\n",
      "OO\n",
      "OOO\n",
      "OOOO\n",
      "OOOOO\n",
      "O\n",
      "OO\n",
      "OOO\n",
      "OOOO\n",
      "OOOOX\n",
      "O\n",
      "OO\n",
      "OOO\n",
      "OOOX\n",
      "OOOXX\n",
      "O\n",
      "OO\n",
      "OOX\n",
      "OOXX\n",
      "OOXXX\n",
      "O\n",
      "OX\n",
      "OXX\n",
      "OXXX\n",
      "OXXXX\n"
     ]
    }
   ],
   "source": [
    "for y in range(5):\n",
    "    행 = ''\n",
    "    for x in range(5):\n",
    "        행 += 'O' if x <= (4 - y) else 'X'\n",
    "        print(행)"
   ]
  },
  {
   "cell_type": "code",
   "execution_count": 6,
   "id": "8b421a53",
   "metadata": {},
   "outputs": [
    {
     "name": "stdout",
     "output_type": "stream",
     "text": [
      "X\n",
      "XX\n",
      "XXX\n",
      "XXXX\n",
      "XXXXO\n",
      "X\n",
      "XX\n",
      "XXX\n",
      "XXXO\n",
      "XXXOO\n",
      "X\n",
      "XX\n",
      "XXO\n",
      "XXOO\n",
      "XXOOO\n",
      "X\n",
      "XO\n",
      "XOO\n",
      "XOOO\n",
      "XOOOO\n",
      "O\n",
      "OO\n",
      "OOO\n",
      "OOOO\n",
      "OOOOO\n"
     ]
    }
   ],
   "source": [
    "for y in range(5):\n",
    "    행 = ''\n",
    "    for x in range(5):\n",
    "        행 += 'O' if x >= (4 - y) else 'X'\n",
    "        print(행)"
   ]
  },
  {
   "cell_type": "code",
   "execution_count": 13,
   "id": "b18a111b",
   "metadata": {},
   "outputs": [
    {
     "name": "stdout",
     "output_type": "stream",
     "text": [
      "O\n",
      "OO\n",
      "OOO\n",
      "OOOO\n",
      "OOOOO\n",
      "X\n",
      "XO\n",
      "XOO\n",
      "XOOO\n",
      "XOOOO\n",
      "X\n",
      "XX\n",
      "XXO\n",
      "XXOO\n",
      "XXOOO\n",
      "X\n",
      "XX\n",
      "XXX\n",
      "XXXO\n",
      "XXXOO\n",
      "X\n",
      "XX\n",
      "XXX\n",
      "XXXX\n",
      "XXXXO\n"
     ]
    }
   ],
   "source": [
    "for y in range(5):\n",
    "    행 = ''\n",
    "    for x in range(5):\n",
    "        행 += 'O' if x > (y - 1) else 'X'\n",
    "        print(행)"
   ]
  },
  {
   "cell_type": "code",
   "execution_count": 12,
   "id": "d622643b",
   "metadata": {},
   "outputs": [
    {
     "name": "stdout",
     "output_type": "stream",
     "text": [
      "XXXXOXXXX\n",
      "XXXOOOXXX\n",
      "XXOOOOOXX\n",
      "XOOOOOOOX\n",
      "OOOOOOOOO\n",
      "XOOOOOOOX\n",
      "XXOOOOOXX\n",
      "XXXOOOXXX\n",
      "XXXXOXXXX\n"
     ]
    }
   ],
   "source": [
    "for y in range(9):\n",
    "    행 = ''\n",
    "    for x in range(9):\n",
    "        if y == 4:\n",
    "            행 += 'O'\n",
    "        elif (y == 0 or y == 8) and x == 4:\n",
    "            행 += 'O'\n",
    "        elif (y == 1 or y == 7) and (3 <= x <= 5):\n",
    "            행 += 'O'\n",
    "        elif (y == 2 or y == 6) and (2 <= x <= 6):\n",
    "            행 += 'O'\n",
    "        elif (y == 3 or y == 5) and (1 <= x <= 7):\n",
    "            행 += 'O'\n",
    "        else:\n",
    "            행 += 'X'\n",
    "        \n",
    "    print(행)\n",
    "    "
   ]
  },
  {
   "cell_type": "code",
   "execution_count": 20,
   "id": "e76815f9",
   "metadata": {},
   "outputs": [],
   "source": [
    "문1 = [\n",
    "    [True,  False,  False,  False,  False],\n",
    "    [True,  True,   False,  False,  False],\n",
    "    [True,  True,   True,   False,  False],\n",
    "    [True,  True,   True,   True,   False],\n",
    "    [True,  True,   True,   True,   True]\n",
    "    ]\n",
    "문2 = [\n",
    "    [True,  True,   True,   True,   True],\n",
    "    [True,  True,   True,   True,   False],\n",
    "    [True,  True,   True,   False,  False],\n",
    "    [True,  True,   False,  False,  False],\n",
    "    [True,  False,  False,  False,  False]\n",
    "    ]\n",
    "문3 = [\n",
    "    [False, False,  False,  False,  True],\n",
    "    [False, False,  False,  True,   True],\n",
    "    [False, False,  True,   True,   True],\n",
    "    [False, True,   True,   True,   True],\n",
    "    [True,  True,   True,   True,   True]\n",
    "    ]\n",
    "문4 = [\n",
    "    [True,  True,   True,   True,   True],\n",
    "    [False, True,   True,   True,   True],\n",
    "    [False, False,  True,   True,   True],\n",
    "    [False, False,  False,  True,   True],\n",
    "    [False, False,  False,  False,  True]\n",
    "    ]"
   ]
  },
  {
   "cell_type": "code",
   "execution_count": 21,
   "id": "aeece0ed",
   "metadata": {},
   "outputs": [],
   "source": [
    "def 실행기(리스트):\n",
    "    for y in 리스트:\n",
    "        행 = ''\n",
    "        for x in y:\n",
    "            행 += 'O' if x else 'X'\n",
    "        print(행)"
   ]
  },
  {
   "cell_type": "code",
   "execution_count": 22,
   "id": "cd798b4e",
   "metadata": {},
   "outputs": [
    {
     "name": "stdout",
     "output_type": "stream",
     "text": [
      "OXXXX\n",
      "OOXXX\n",
      "OOOXX\n",
      "OOOOX\n",
      "OOOOO\n"
     ]
    }
   ],
   "source": [
    "실행기(문1)"
   ]
  },
  {
   "cell_type": "code",
   "execution_count": 23,
   "id": "6dcfaaf0",
   "metadata": {},
   "outputs": [
    {
     "name": "stdout",
     "output_type": "stream",
     "text": [
      "OOOOO\n",
      "OOOOX\n",
      "OOOXX\n",
      "OOXXX\n",
      "OXXXX\n"
     ]
    }
   ],
   "source": [
    "실행기(문2)"
   ]
  },
  {
   "cell_type": "code",
   "execution_count": 24,
   "id": "9760ac56",
   "metadata": {},
   "outputs": [
    {
     "name": "stdout",
     "output_type": "stream",
     "text": [
      "XXXXO\n",
      "XXXOO\n",
      "XXOOO\n",
      "XOOOO\n",
      "OOOOO\n"
     ]
    }
   ],
   "source": [
    "실행기(문3)"
   ]
  },
  {
   "cell_type": "code",
   "execution_count": 25,
   "id": "f92ed1c9",
   "metadata": {},
   "outputs": [
    {
     "name": "stdout",
     "output_type": "stream",
     "text": [
      "OOOOO\n",
      "XOOOO\n",
      "XXOOO\n",
      "XXXOO\n",
      "XXXXO\n"
     ]
    }
   ],
   "source": [
    "실행기(문4)"
   ]
  },
  {
   "cell_type": "code",
   "execution_count": 28,
   "id": "b24c90e5",
   "metadata": {},
   "outputs": [],
   "source": [
    "문5 = [\n",
    "    [False, False,  False,  False,  True,   False,  False,  False,  False],\n",
    "    [False, False,  False,  True,   True,   True,   False,  False,  False],\n",
    "    [False, False,  True,   True,   True,   True,   True,   False,  False],\n",
    "    [False, True,   True,   True,   True,   True,   True,   True,   False],\n",
    "    [True,  True,   True,   True,   True,   True,   True,   True,   True],\n",
    "    [False, True,   True,   True,   True,   True,   True,   True,   False],\n",
    "    [False, False,  True,   True,   True,   True,   True,   False,  False],\n",
    "    [False, False,  False,  True,   True,   True,   False,  False,  False],\n",
    "    [False, False,  False,  False,  True,   False,  False,  False,  False]\n",
    "    ]"
   ]
  },
  {
   "cell_type": "code",
   "execution_count": 29,
   "id": "ca2b8481",
   "metadata": {},
   "outputs": [
    {
     "name": "stdout",
     "output_type": "stream",
     "text": [
      "XXXXOXXXX\n",
      "XXXOOOXXX\n",
      "XXOOOOOXX\n",
      "XOOOOOOOX\n",
      "OOOOOOOOO\n",
      "XOOOOOOOX\n",
      "XXOOOOOXX\n",
      "XXXOOOXXX\n",
      "XXXXOXXXX\n"
     ]
    }
   ],
   "source": [
    "실행기(문5)"
   ]
  }
 ],
 "metadata": {
  "kernelspec": {
   "display_name": "Python 3",
   "language": "python",
   "name": "python3"
  },
  "language_info": {
   "codemirror_mode": {
    "name": "ipython",
    "version": 3
   },
   "file_extension": ".py",
   "mimetype": "text/x-python",
   "name": "python",
   "nbconvert_exporter": "python",
   "pygments_lexer": "ipython3",
   "version": "3.13.5"
  }
 },
 "nbformat": 4,
 "nbformat_minor": 5
}
