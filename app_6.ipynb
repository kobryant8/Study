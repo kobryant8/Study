{
 "cells": [
  {
   "cell_type": "code",
   "execution_count": null,
   "id": "e22c3d34",
   "metadata": {},
   "outputs": [],
   "source": [
    "반복문에서 사용되는 기능\n",
    "\n",
    "break : 강제로 종료\n",
    "continue : 다음으로 점프\n",
    "\n",
    "1. break 사용 예시"
   ]
  },
  {
   "cell_type": "code",
   "execution_count": 1,
   "id": "5a168821",
   "metadata": {},
   "outputs": [
    {
     "name": "stdout",
     "output_type": "stream",
     "text": [
      "1\n",
      "2\n",
      "3\n",
      "4\n"
     ]
    }
   ],
   "source": [
    "변수 = 0\n",
    "while True:\n",
    "    변수 += 1\n",
    "    if 변수 == 5: \n",
    "        break\n",
    "    else:\n",
    "        print(변수)"
   ]
  },
  {
   "cell_type": "code",
   "execution_count": null,
   "id": "08c0c37f",
   "metadata": {},
   "outputs": [],
   "source": [
    "2. continue 사용 예시"
   ]
  },
  {
   "cell_type": "code",
   "execution_count": 2,
   "id": "71d0aac4",
   "metadata": {},
   "outputs": [
    {
     "name": "stdout",
     "output_type": "stream",
     "text": [
      "1\n",
      "3\n",
      "5\n"
     ]
    }
   ],
   "source": [
    "변수 = 0\n",
    "while 변수 < 5:\n",
    "    변수 += 1\n",
    "    if 변수%2 == 0: \n",
    "        continue\n",
    "    \n",
    "    print(변수)"
   ]
  },
  {
   "cell_type": "code",
   "execution_count": null,
   "id": "4edcd218",
   "metadata": {},
   "outputs": [],
   "source": [
    "a = True\n",
    "b = 0\n",
    "while a:\n",
    "    if b == 0: \n",
    "        print(b)\n",
    "    b += 1\n",
    "    if b == 4:\n",
    "        continue\n",
    "    print(b)"
   ]
  },
  {
   "cell_type": "code",
   "execution_count": 3,
   "id": "d923d8f6",
   "metadata": {},
   "outputs": [
    {
     "name": "stdout",
     "output_type": "stream",
     "text": [
      "1\n",
      "1 * 1 = 1\n",
      "1 * 2 = 2\n",
      "1 * 3 = 3\n",
      "1 * 4 = 4\n",
      "1 * 5 = 5\n",
      "1 * 6 = 6\n",
      "1 * 7 = 7\n",
      "1 * 8 = 8\n",
      "1 * 9 = 9\n"
     ]
    }
   ],
   "source": [
    "시작 = 1\n",
    "끝 = 10\n",
    "while 시작 < 10:\n",
    "    \n",
    "    if 시작 % 2 == 0:\n",
    "        break\n",
    "    print(시작)\n",
    "    \n",
    "    곱 = 1\n",
    "    while 곱 < 10:\n",
    "        print(f'{시작} * {곱} = {시작 * 곱}')\n",
    "        곱 += 1\n",
    "        \n",
    "    시작 += 1\n",
    "    "
   ]
  }
 ],
 "metadata": {
  "kernelspec": {
   "display_name": "Python 3",
   "language": "python",
   "name": "python3"
  },
  "language_info": {
   "codemirror_mode": {
    "name": "ipython",
    "version": 3
   },
   "file_extension": ".py",
   "mimetype": "text/x-python",
   "name": "python",
   "nbconvert_exporter": "python",
   "pygments_lexer": "ipython3",
   "version": "3.13.5"
  }
 },
 "nbformat": 4,
 "nbformat_minor": 5
}
