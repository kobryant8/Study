{
 "cells": [
  {
   "cell_type": "code",
   "execution_count": null,
   "id": "eb641466",
   "metadata": {},
   "outputs": [],
   "source": [
    "#1번 문제"
   ]
  },
  {
   "cell_type": "code",
   "execution_count": null,
   "id": "0eb5a00e",
   "metadata": {},
   "outputs": [],
   "source": [
    "#2번 문제\n",
    "\n",
    "p1 = input(\"첫 번째 플레이어: \")\n",
    "p2 = input(\"두 번째 플레이어: \")\n",
    "\n",
    "\n",
    "if p1 == p2:\n",
    "    print(\"무승부입니다.\")\n",
    "elif (p1 == '가위' and p2 == '보') or \\\n",
    "     (p1 == '바위' and p2 == '가위') or \\\n",
    "     (p1 == '보' and p2 == '바위'):\n",
    "    print(\"첫 번째 플레이어 승!\")\n",
    "else:\n",
    "    print(\"두 번째 플레이어 승!\")\n"
   ]
  },
  {
   "cell_type": "code",
   "execution_count": null,
   "id": "44ce3b4b",
   "metadata": {},
   "outputs": [],
   "source": [
    "#3번 문제\n",
    "\n",
    "정수 = input(\"임의의 수를 입력하세요\")\n",
    "if  int(정수) % 2 == 0:\n",
    "        print(\"짝수입니다\")\n",
    "else:\n",
    "        print(\"홀수입니다\")"
   ]
  },
  {
   "cell_type": "code",
   "execution_count": null,
   "id": "9af8e9af",
   "metadata": {},
   "outputs": [],
   "source": [
    "#4번 문제"
   ]
  },
  {
   "cell_type": "code",
   "execution_count": null,
   "id": "c152f45c",
   "metadata": {},
   "outputs": [],
   "source": [
    "#5번 문제\n",
    "\n",
    "입력 = input(\"구구단을 출력할 수를 입력하세요\")\n",
    "\n",
    "\n",
    "입력 = range(9)\n",
    "곱 = range(9)\n",
    "\n",
    "\n",
    "\n",
    "\n",
    "\n",
    "\n",
    "while 입력 < 곱:\n",
    "    print(f'출력 : {입력}')"
   ]
  },
  {
   "cell_type": "code",
   "execution_count": null,
   "id": "9b73966c",
   "metadata": {},
   "outputs": [],
   "source": [
    "#6번 문제"
   ]
  },
  {
   "cell_type": "code",
   "execution_count": null,
   "id": "450e7035",
   "metadata": {},
   "outputs": [],
   "source": [
    "#7번 문제"
   ]
  },
  {
   "cell_type": "code",
   "execution_count": null,
   "id": "e8d62235",
   "metadata": {},
   "outputs": [],
   "source": [
    "#8번 문제\n",
    "\n",
    "n = [1,2,3,4,5]\n",
    "print(n[0]+n[1]+n[2]+n[3]+n[4])"
   ]
  },
  {
   "cell_type": "code",
   "execution_count": null,
   "id": "09dd76da",
   "metadata": {},
   "outputs": [],
   "source": [
    "#9번 문제\n",
    "\n",
    "a = 1\n",
    "for x in range(5):\n",
    "    for y in range(5):\n",
    "        print(a,end = ' ')\n",
    "        a += 1\n",
    "    print()"
   ]
  },
  {
   "cell_type": "code",
   "execution_count": null,
   "id": "477c4027",
   "metadata": {},
   "outputs": [],
   "source": [
    "#10번 문제\n",
    "\n",
    "a = int(input(\"첫 번째 숫자를 입력하세요.\"))\n",
    "op = (input(\"이 숫자로 뭐 할래 (+, -, *, /)\"))\n",
    "b = int(input(\"두 번째 숫자를 입력하세요.\"))\n",
    "\n",
    "\n",
    "if op == \"+\":\n",
    "    result = a + b\n",
    "elif op == \"-\":\n",
    "    result = a - b\n",
    "elif op == \"*\":\n",
    "    result = a * b\n",
    "elif op == \"/\":\n",
    "    if b != 0:\n",
    "        result = a / b\n",
    "    else:\n",
    "        result = \"나눠지겠냐?\"\n",
    "else:\n",
    "    result = \"똑바로 입력해야지, 뭐하냐\"\n",
    "\n",
    "\n",
    "print(\"결과:\", result)\n"
   ]
  }
 ],
 "metadata": {
  "kernelspec": {
   "display_name": "Python 3",
   "language": "python",
   "name": "python3"
  },
  "language_info": {
   "codemirror_mode": {
    "name": "ipython",
    "version": 3
   },
   "file_extension": ".py",
   "mimetype": "text/x-python",
   "name": "python",
   "nbconvert_exporter": "python",
   "pygments_lexer": "ipython3",
   "version": "3.13.5"
  }
 },
 "nbformat": 4,
 "nbformat_minor": 5
}
