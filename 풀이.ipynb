{
 "cells": [
  {
   "cell_type": "code",
   "execution_count": null,
   "id": "eb641466",
   "metadata": {},
   "outputs": [],
   "source": [
    "#1번 문제"
   ]
  },
  {
   "cell_type": "code",
   "execution_count": 1,
   "id": "0eb5a00e",
   "metadata": {},
   "outputs": [
    {
     "name": "stdout",
     "output_type": "stream",
     "text": [
      "두 번째 플레이어 승!\n"
     ]
    }
   ],
   "source": [
    "#2번 문제\n",
    "\n",
    "p1 = input(\"첫 번째 플레이어: \")\n",
    "p2 = input(\"두 번째 플레이어: \")\n",
    "\n",
    "\n",
    "if p1 == p2:\n",
    "    print(\"무승부입니다.\")\n",
    "elif (p1 == '가위' and p2 == '보') or \\\n",
    "     (p1 == '바위' and p2 == '가위') or \\\n",
    "     (p1 == '보' and p2 == '바위'):\n",
    "    print(\"첫 번째 플레이어 승!\")\n",
    "else:\n",
    "    print(\"두 번째 플레이어 승!\")\n"
   ]
  },
  {
   "cell_type": "code",
   "execution_count": null,
   "id": "44ce3b4b",
   "metadata": {},
   "outputs": [],
   "source": [
    "#3번 문제\n",
    "\n",
    "정수 = input(\"임의의 수를 입력하세요\")\n",
    "if  int(정수) % 2 == 0:\n",
    "        print(\"짝수입니다\")\n",
    "else:\n",
    "        print(\"홀수입니다\")"
   ]
  },
  {
   "cell_type": "code",
   "execution_count": 4,
   "id": "9af8e9af",
   "metadata": {},
   "outputs": [
    {
     "name": "stdout",
     "output_type": "stream",
     "text": [
      "사용자의 이름과 나이를 입력 받아 출력하기\n",
      "marcin님은 30살 입니다.\n"
     ]
    }
   ],
   "source": [
    "#4번 문제\n",
    "print(\"사용자의 이름과 나이를 입력 받아 출력하기\")\n",
    "name = input(\"당신의 이름을 입력해주세요.\")\n",
    "age = input(\"당신의 나이를 입력해주세요.\")\n",
    "\n",
    "print(f'{name}님은 {age}살 입니다.')"
   ]
  },
  {
   "cell_type": "code",
   "execution_count": 5,
   "id": "c152f45c",
   "metadata": {},
   "outputs": [
    {
     "name": "stdout",
     "output_type": "stream",
     "text": [
      "사용자의 특정 단의 숫자를 입력 받아 구구단를 출력하기\n",
      "5 * 0 = 0\n",
      "5 * 1 = 5\n",
      "5 * 2 = 10\n",
      "5 * 3 = 15\n",
      "5 * 4 = 20\n",
      "5 * 5 = 25\n",
      "5 * 6 = 30\n",
      "5 * 7 = 35\n",
      "5 * 8 = 40\n",
      "5 * 9 = 45\n"
     ]
    }
   ],
   "source": [
    "#5번 문제\n",
    "\n",
    "print(\"사용자의 특정 단의 숫자를 입력 받아 구구단를 출력하기\")\n",
    "dan = input(\"출력하실 단(숫자)를 입력하세요.\")\n",
    "\n",
    "for i in range(10):\n",
    "    print(f'{dan} * {i} = {int(dan) * i}')"
   ]
  },
  {
   "cell_type": "code",
   "execution_count": 7,
   "id": "9b73966c",
   "metadata": {},
   "outputs": [
    {
     "name": "stdout",
     "output_type": "stream",
     "text": [
      "별 출력하기\n",
      "*    \n",
      "**   \n",
      "***  \n",
      "**** \n",
      "*****\n"
     ]
    }
   ],
   "source": [
    "#6번 문제\n",
    "print(\"별 출력하기\")\n",
    "line = int(input(\"크기의 값을 넣어 주세요.\"))\n",
    "for y in range(line):\n",
    "    row = ''\n",
    "    for x in range(line):\n",
    "        row += '*' if x < (y + 1) else ' '\n",
    "    print(row)"
   ]
  },
  {
   "cell_type": "code",
   "execution_count": 10,
   "id": "450e7035",
   "metadata": {},
   "outputs": [
    {
     "name": "stdout",
     "output_type": "stream",
     "text": [
      "삼성전자 Naver\n"
     ]
    }
   ],
   "source": [
    "#7번 문제\n",
    "interest = ['삼성전자', 'LG전자', 'Naver']\n",
    "print(interest[0],interest[2])"
   ]
  },
  {
   "cell_type": "code",
   "execution_count": 1,
   "id": "e8d62235",
   "metadata": {},
   "outputs": [
    {
     "name": "stdout",
     "output_type": "stream",
     "text": [
      "15\n"
     ]
    }
   ],
   "source": [
    "#8번 문제\n",
    "\n",
    "n = [1,2,3,4,5]\n",
    "print(n[0]+n[1]+n[2]+n[3]+n[4])"
   ]
  },
  {
   "cell_type": "code",
   "execution_count": 8,
   "id": "09dd76da",
   "metadata": {},
   "outputs": [
    {
     "name": "stdout",
     "output_type": "stream",
     "text": [
      "1에서 25까지 숫자를 출력하기, 단 각 행은 5개의 숫자를 출력 할것\n",
      "1\t2\t3\t4\t5\t\n",
      "6\t7\t8\t9\t10\t\n",
      "11\t12\t13\t14\t15\t\n",
      "16\t17\t18\t19\t20\t\n",
      "21\t22\t23\t24\t25\t\n"
     ]
    }
   ],
   "source": [
    "#9번 문제\n",
    "\n",
    "print(\"1에서 25까지 숫자를 출력하기, 단 각 행은 5개의 숫자를 출력 할것\")\n",
    "i = 1\n",
    "for y in range(5):\n",
    "    row = ''\n",
    "    for x in range(i, i + 5):\n",
    "        row += f'{x}\\t'\n",
    "        i += 1\n",
    "    print(row)"
   ]
  },
  {
   "cell_type": "code",
   "execution_count": 9,
   "id": "477c4027",
   "metadata": {},
   "outputs": [
    {
     "name": "stdout",
     "output_type": "stream",
     "text": [
      "간단한 계산기 입니다.\n",
      "5 / 2 = 2.5\n"
     ]
    }
   ],
   "source": [
    "#10번 문제\n",
    "\n",
    "print(\"간단한 계산기 입니다.\")\n",
    "value1 = input(\"첫번째 숫자를 입력하세요.\")\n",
    "symbol = input(\"연산 기호를 입력하세요.\")\n",
    "value2 = input(\"두번째 숫자를 입력하세요.\")\n",
    "\n",
    "result = 0\n",
    "if symbol == \"+\": \n",
    "    result = int(value1) + int(value2)\n",
    "elif symbol == \"-\": \n",
    "    result = int(value1) - int(value2)\n",
    "elif symbol == \"*\": \n",
    "    result = int(value1) * int(value2)\n",
    "elif symbol == \"/\": \n",
    "    result = int(value1) / int(value2)\n",
    "    \n",
    "print(f'{value1} {symbol} {value2} = {result}')"
   ]
  }
 ],
 "metadata": {
  "kernelspec": {
   "display_name": "Python 3",
   "language": "python",
   "name": "python3"
  },
  "language_info": {
   "codemirror_mode": {
    "name": "ipython",
    "version": 3
   },
   "file_extension": ".py",
   "mimetype": "text/x-python",
   "name": "python",
   "nbconvert_exporter": "python",
   "pygments_lexer": "ipython3",
   "version": "3.13.5"
  }
 },
 "nbformat": 4,
 "nbformat_minor": 5
}
