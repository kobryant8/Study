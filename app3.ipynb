{
 "cells": [
  {
   "cell_type": "code",
   "execution_count": null,
   "id": "ec5e1c54",
   "metadata": {},
   "outputs": [],
   "source": [
    "제어문\n",
    "1. 조건문 : if\n",
    "2. 반복문 : for, while"
   ]
  },
  {
   "cell_type": "code",
   "execution_count": 1,
   "id": "0cc49864",
   "metadata": {},
   "outputs": [
    {
     "name": "stdout",
     "output_type": "stream",
     "text": [
      "False\n"
     ]
    }
   ],
   "source": [
    "a = 5\n",
    "print(a == 3)"
   ]
  },
  {
   "cell_type": "code",
   "execution_count": 2,
   "id": "baf53b91",
   "metadata": {},
   "outputs": [
    {
     "name": "stdout",
     "output_type": "stream",
     "text": [
      "다르다\n"
     ]
    }
   ],
   "source": [
    "a = 10\n",
    "if a == 3:\n",
    "    print('맞다')\n",
    "else:\n",
    "    print('다르다')"
   ]
  },
  {
   "cell_type": "code",
   "execution_count": 3,
   "id": "d74ceaa3",
   "metadata": {},
   "outputs": [
    {
     "name": "stdout",
     "output_type": "stream",
     "text": [
      "다르다\n"
     ]
    }
   ],
   "source": [
    "a = 10 == 3\n",
    "b = '참' if a else '다르다'\n",
    "print(b)"
   ]
  },
  {
   "cell_type": "code",
   "execution_count": 5,
   "id": "29223467",
   "metadata": {},
   "outputs": [
    {
     "name": "stdout",
     "output_type": "stream",
     "text": [
      "2500\n",
      "난 암산을 잘한다\n"
     ]
    }
   ],
   "source": [
    "지갑 = 10000\n",
    "음식 = 2500\n",
    "구매수량 = 3\n",
    "print(지갑-(음식*구매수량))\n",
    "\n",
    "지불할금액 = 7500\n",
    "\n",
    "if 지불할금액 ==  (음식*구매수량):\n",
    "        print(\"난 암산을 잘한다\")\n",
    "else:\n",
    "        print('계산이 잘못된 건가?')"
   ]
  },
  {
   "cell_type": "code",
   "execution_count": 9,
   "id": "cc91c80f",
   "metadata": {},
   "outputs": [
    {
     "name": "stdout",
     "output_type": "stream",
     "text": [
      "야무지게 샀다\n"
     ]
    }
   ],
   "source": [
    "케이블1 = 20000\n",
    "피크한통 = 10000\n",
    "자산 = 30000\n",
    "if 자산 == (케이블1+ 피크한통):\n",
    "    print(\"야무지게 샀다\")\n",
    "else:   print(\"애매하게 샀다\")"
   ]
  },
  {
   "cell_type": "code",
   "execution_count": null,
   "id": "6a338995",
   "metadata": {},
   "outputs": [],
   "source": [
    "음료수를 구매 할 수 있는 자판기 입니다. 음료수 종류 및 개당 금액\n",
    "\n",
    "콜라 : 500\n",
    "사이다 : 450\n",
    "맥콜 : 300"
   ]
  },
  {
   "cell_type": "code",
   "execution_count": null,
   "id": "85df469a",
   "metadata": {},
   "outputs": [],
   "source": [
    "선택한음료 = input(\"콜라, 사이다, 맥콜 중 하나를 주문하세요.\")\n",
    "\n",
    "if 선택한음료 == '콜라':\n",
    "    print('선택하신 음료는 콜라입니다. 500원')\n",
    "    금액 = 500\n",
    "elif 선택한음료 == '사이다':\n",
    "    print('선택하신 음료는 사이다입니다. 450원')\n",
    "    금액 = 450\n",
    "elif 선택한음료 == '맥콜':\n",
    "    print('선택하신 음료는 맥콜입니다. 300원')\n",
    "    금액 = 300\n",
    "\n",
    "\n",
    "\n",
    "'문제1) 아래의 조건문에서 해당 음료수를 선택 했을 경우 금액을 알려주고 수량을 받는 입력창을 띄우세요.'\n",
    "수량 = int(input('수량을 입력하세요.'))\n",
    "\n",
    "\n",
    "'문제2) 선택한 음료와 수량의 총 합을 출력해 주세요. 예) 콜라 3개 금액은 1500원 입니다.'\n",
    "print(f'{선택한 음료} {수량}개 금액은 {금액*수량}원입니다.')\n",
    "\n",
    "\n",
    "'문제3) 사용자에서 금액을 받고 알맞은 결과를 출력해 주세요. 예) 2000원를 받고 500원 거스름돈를 받으세요.'\n",
    "지불금액 = int(input('지불하실 금액을 입력하세요.'))\n",
    "거스름돈 = 지불금액 - (금액*수량)\n",
    "print(f'{지불금액}원을 받고 {거스름돈}을 받으세요.')\n",
    "     "
   ]
  },
  {
   "cell_type": "code",
   "execution_count": null,
   "id": "37223a97",
   "metadata": {},
   "outputs": [],
   "source": [
    "선택한음료 = input(\"콜라, 사이다, 맥콜 중 하나를 주문하세요.\")\n",
    "\n",
    "if 선택한음료 == '콜라':\n",
    "    print('선택하신 음료는 콜라입니다. 500원')\n",
    "    금액 = 500\n",
    "elif 선택한음료 == '사이다':\n",
    "    print('선택하신 음료는 사이다입니다. 450원')\n",
    "    금액 = 450\n",
    "elif 선택한음료 == '맥콜':\n",
    "    print('선택하신 음료는 맥콜입니다. 300원')\n",
    "    금액 = 300\n",
    "\n",
    "\n",
    "\n",
    "'문제1) 아래의 조건문에서 해당 음료수를 선택 했을 경우 금액을 알려주고 수량을 받는 입력창을 띄우세요.'\n",
    "수량 = int(input('수량을 입력하세요.'))\n",
    "\n",
    "\n",
    "'문제2) 선택한 음료와 수량의 총 합을 출력해 주세요. 예) 콜라 3개 금액은 1500원 입니다.'\n",
    "print(f'{선택한 음료} {수량}개 금액은 {금액*수량}원입니다.')\n",
    "\n",
    "\n",
    "'문제3) 사용자에서 금액을 받고 알맞은 결과를 출력해 주세요. 예) 2000원를 받고 500원 거스름돈를 받으세요.'\n",
    "지불금액 = int(input('지불하실 금액을 입력하세요.'))\n",
    "거스름돈 = 지불금액 - (금액*수량)\n",
    "print(f'{지불금액}원을 받고 {거스름돈}을 받으세요.')"
   ]
  },
  {
   "cell_type": "code",
   "execution_count": null,
   "id": "739e0e33",
   "metadata": {},
   "outputs": [],
   "source": [
    "선택한음료 = input(\"콜라, 사이다, 맥콜 중 하나를 주문하세요.\")\n",
    "금액 = 0\n",
    "\n",
    "if 선택한음료 == '콜라':\n",
    "    print('선택하신 음료는 콜라 입니다. 500원')\n",
    "    금액 = 500\n",
    "elif 선택한음료 == '사이다':\n",
    "    print('선택하신 음료는 사이다 입니다. 450원')\n",
    "    금액 = 450\n",
    "elif 선택한음료 == '맥콜':\n",
    "    print('선택하신 음료는 맥콜 입니다. 300원')\n",
    "    금액 = 300\n",
    "\n",
    "\n",
    "\n",
    "'문제1) 아래의 조건문에서 해당 음료수를 선택 했을 경우 금액을 알려주고 수량을 받는 입력창을 띄우세요.'\n",
    "수량 = int(input('수량을 입력하세요.'))\n",
    "\n",
    "\n",
    "'문제2) 선택한 음료와 수량의 총 합을 출력해 주세요. 예) 콜라 3개 금액은 1500원 입니다.'\n",
    "print(f'{선택한 음료} {수량}개 금액은 {금액*수량}원입니다.')\n",
    "\n",
    "\n",
    "'문제3) 사용자에서 금액을 받고 알맞은 결과를 출력해 주세요. 예) 2000원를 받고 500원 거스름돈를 받으세요.'\n",
    "지불금액 = int(input('지불하실 금액을 입력하세요.'))\n",
    "거스름돈 = 지불금액 - (금액*수량)\n",
    "print(f'{지불금액}원을 받고 {거스름돈}을 받으세요.')"
   ]
  },
  {
   "cell_type": "code",
   "execution_count": 14,
   "id": "2d59a066",
   "metadata": {},
   "outputs": [
    {
     "name": "stdout",
     "output_type": "stream",
     "text": [
      "선택하신 음료는 사이다 입니다. 450원\n",
      "사이다\n",
      "3\n",
      "사이다 3개 금액은 1350원입니다.\n",
      "2000원을 받고 650을 받으세요.\n"
     ]
    }
   ],
   "source": [
    "선택한음료 = input(\"콜라, 사이다, 맥콜 중 하나를 주문하세요.\")\n",
    "금액 = 0\n",
    "\n",
    "if 선택한음료 == '콜라':\n",
    "    print('선택하신 음료는 콜라 입니다. 500원')\n",
    "    금액 = 500\n",
    "elif 선택한음료 == '사이다':\n",
    "    print('선택하신 음료는 사이다 입니다. 450원')\n",
    "    금액 = 450\n",
    "elif 선택한음료 == '맥콜':\n",
    "    print('선택하신 음료는 맥콜 입니다. 300원')\n",
    "    금액 = 300\n",
    "\n",
    "'문제1) 아래의 조건문에서 해당 음료수를 선택 했을 경우 금액을 알려주고 수량을 받는 입력창을 띄우세요.'\n",
    "수량 = int(input('수량을 입력하세요.'))\n",
    "\n",
    "print(선택한음료)\n",
    "print(수량)\n",
    "\n",
    "'문제2) 선택한 음료와 수량의 총 합을 출력해 주세요. 예) 콜라 3개 금액은 1500원 입니다.'\n",
    "print(f'{선택한음료} {수량}개 금액은 {금액*수량}원입니다.')\n",
    "\n",
    "'문제3) 사용자에서 금액을 받고 알맞은 결과를 출력해 주세요. 예) 2000원를 받고 500원 거스름돈를 받으세요.'\n",
    "지불금액 = int(input('지불하실 금액을 입력하세요.'))\n",
    "거스름돈 = 지불금액 - (금액*수량)\n",
    "print(f'{지불금액}원을 받고 {거스름돈}을 받으세요.')\n",
    "\n"
   ]
  },
  {
   "cell_type": "code",
   "execution_count": null,
   "id": "2664a3ff",
   "metadata": {},
   "outputs": [
    {
     "ename": "SyntaxError",
     "evalue": "invalid syntax (3468185257.py, line 4)",
     "output_type": "error",
     "traceback": [
      "  \u001b[36mCell\u001b[39m\u001b[36m \u001b[39m\u001b[32mIn[18]\u001b[39m\u001b[32m, line 4\u001b[39m\n\u001b[31m    \u001b[39m\u001b[31mif 선택한음료 == not('사이다' and '맥콜'):\u001b[39m\n                ^\n\u001b[31mSyntaxError\u001b[39m\u001b[31m:\u001b[39m invalid syntax\n"
     ]
    }
   ],
   "source": [
    "선택한음료 = input(\"콜라, 사이다, 맥콜 중 하나를 주문하세요.\")\n",
    "금액 = 0\n",
    "\n",
    "if 선택한음료 == '콜라':\n",
    "    print('선택하신 음료는 콜라 입니다. 500원')\n",
    "    금액 = 500\n",
    "elif 선택한음료 == '사이다':\n",
    "    print('선택하신 음료는 사이다 입니다. 450원')\n",
    "    금액 = 450\n",
    "elif 선택한음료 == '맥콜':\n",
    "    print('선택하신 음료는 맥콜 입니다. 300원')\n",
    "    금액 = 300"
   ]
  }
 ],
 "metadata": {
  "kernelspec": {
   "display_name": "Python 3",
   "language": "python",
   "name": "python3"
  },
  "language_info": {
   "codemirror_mode": {
    "name": "ipython",
    "version": 3
   },
   "file_extension": ".py",
   "mimetype": "text/x-python",
   "name": "python",
   "nbconvert_exporter": "python",
   "pygments_lexer": "ipython3",
   "version": "3.13.5"
  }
 },
 "nbformat": 4,
 "nbformat_minor": 5
}
