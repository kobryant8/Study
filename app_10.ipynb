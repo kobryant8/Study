{
 "cells": [
  {
   "cell_type": "code",
   "execution_count": 7,
   "id": "6fb8e948",
   "metadata": {},
   "outputs": [
    {
     "name": "stdout",
     "output_type": "stream",
     "text": [
      "OXXXXXXXXO\n",
      "XOXXXXXXOX\n",
      "XXOXXXXOXX\n",
      "XXXOXXOXXX\n",
      "XXXXOOXXXX\n",
      "XXXXOOXXXX\n",
      "XXXOXXOXXX\n",
      "XXOXXXXOXX\n",
      "XOXXXXXXOX\n",
      "OXXXXXXXXO\n"
     ]
    }
   ],
   "source": [
    "# 문제 2\n",
    "a = 'X'\n",
    "b = 'O'\n",
    "for y in range(10):\n",
    "    조합 = ''\n",
    "    for x in range(10):\n",
    "        # 문자가 조합 되는 코드 작성\n",
    "        if (y == 0 or y == 9) and (x == 0 or x == 9):\n",
    "            조합 += b\n",
    "        elif (y == 1 or y == 8) and (x == 1 or x == 8):\n",
    "            조합 += b\n",
    "        elif (y == 2 or y == 7) and (x == 2 or x == 7):\n",
    "            조합 += b\n",
    "        elif (y == 3 or y == 6) and (x == 3 or x == 6):\n",
    "            조합 += b\n",
    "        elif (y == 4 or y == 5) and (x == 4 or x == 5):\n",
    "            조합 += b    \n",
    "        else: \n",
    "            조합 += a \n",
    "        \n",
    "            \n",
    "    # 조합 된 문자 출력\n",
    "    print(조합)\n",
    "            "
   ]
  },
  {
   "cell_type": "code",
   "execution_count": 11,
   "id": "ba399f12",
   "metadata": {},
   "outputs": [
    {
     "name": "stdout",
     "output_type": "stream",
     "text": [
      "OXXXXXXXXO\n",
      "XOXXXXXXOX\n",
      "XXOXXXXOXX\n",
      "XXXOXXOXXX\n",
      "XXXXOOXXXX\n",
      "XXXXOOXXXX\n",
      "XXXOXXOXXX\n",
      "XXOXXXXOXX\n",
      "XOXXXXXXOX\n",
      "OXXXXXXXXO\n"
     ]
    }
   ],
   "source": [
    "a = 'X'\n",
    "b = 'O'\n",
    "for y in range(10):\n",
    "    조합 = ''\n",
    "    for x in range(10):\n",
    "        if x == y or x + y == 9:\n",
    "            조합 += b\n",
    "        else:\n",
    "            조합 += a\n",
    "\n",
    "    print(조합)"
   ]
  },
  {
   "cell_type": "code",
   "execution_count": null,
   "id": "78c6e728",
   "metadata": {},
   "outputs": [],
   "source": [
    "1답안] 각 행에서 열의 위치 확인"
   ]
  },
  {
   "cell_type": "code",
   "execution_count": 12,
   "id": "31906fca",
   "metadata": {},
   "outputs": [
    {
     "name": "stdout",
     "output_type": "stream",
     "text": [
      "OXXXXXXXXO\n",
      "XOXXXXXXOX\n",
      "XXOXXXXOXX\n",
      "XXXOXXOXXX\n",
      "XXXXOOXXXX\n",
      "XXXXOOXXXX\n",
      "XXXOXXOXXX\n",
      "XXOXXXXOXX\n",
      "XOXXXXXXOX\n",
      "OXXXXXXXXO\n"
     ]
    }
   ],
   "source": [
    "a = \"O\"\n",
    "b = \"X\"\n",
    "for y in range(1, 11):\n",
    "    행 = \"\"\n",
    "    for x in range(1, 11):\n",
    "        if (y == 1 or y == 10) and (x == 1 or x == 10):\n",
    "            행 += a\n",
    "        elif (y == 2 or y == 9) and (x == 2 or x == 9):\n",
    "            행 += a\n",
    "        elif (y == 3 or y == 8) and (x == 3 or x == 8):\n",
    "            행 += a\n",
    "        elif (y == 4 or y == 7) and (x == 4 or x == 7):\n",
    "            행 += a\n",
    "        elif (y == 5 or y == 6) and (x == 5 or x == 6):\n",
    "            행 += a\n",
    "        else:\n",
    "            행 += b\n",
    "    print(행)"
   ]
  },
  {
   "cell_type": "code",
   "execution_count": null,
   "id": "668e498e",
   "metadata": {},
   "outputs": [],
   "source": [
    "2답안] 행과 열의 위치 값을 비교"
   ]
  },
  {
   "cell_type": "code",
   "execution_count": 13,
   "id": "195491b9",
   "metadata": {},
   "outputs": [
    {
     "name": "stdout",
     "output_type": "stream",
     "text": [
      "OXXXXXXXXO\n",
      "XOXXXXXXOX\n",
      "XXOXXXXOXX\n",
      "XXXOXXOXXX\n",
      "XXXXOOXXXX\n",
      "XXXXOOXXXX\n",
      "XXXOXXOXXX\n",
      "XXOXXXXOXX\n",
      "XOXXXXXXOX\n",
      "OXXXXXXXXO\n"
     ]
    }
   ],
   "source": [
    "a = \"O\"\n",
    "b = \"X\"\n",
    "for y in range(10):\n",
    "    행 = ''\n",
    "    for x in range(10):\n",
    "        if y == x or (9 - y) == x:\n",
    "            행 += a\n",
    "        else:\n",
    "            행 += b\n",
    "    print(행)"
   ]
  },
  {
   "cell_type": "code",
   "execution_count": null,
   "id": "47724362",
   "metadata": {},
   "outputs": [],
   "source": [
    "3단안] 조건부 표현식 사용"
   ]
  },
  {
   "cell_type": "code",
   "execution_count": 14,
   "id": "5c81dd28",
   "metadata": {},
   "outputs": [
    {
     "name": "stdout",
     "output_type": "stream",
     "text": [
      "OXXXXXXXXO\n",
      "XOXXXXXXOX\n",
      "XXOXXXXOXX\n",
      "XXXOXXOXXX\n",
      "XXXXOOXXXX\n",
      "XXXXOOXXXX\n",
      "XXXOXXOXXX\n",
      "XXOXXXXOXX\n",
      "XOXXXXXXOX\n",
      "OXXXXXXXXO\n"
     ]
    }
   ],
   "source": [
    "for y in range(10):\n",
    "    행 = ''\n",
    "    for x in range(10):\n",
    "        행 += \"O\" if y == x or (9 - y) == x else \"X\"\n",
    "    print(행)"
   ]
  },
  {
   "cell_type": "code",
   "execution_count": null,
   "id": "b4f2dfc7",
   "metadata": {},
   "outputs": [],
   "source": [
    "4답안] 리스트에 미리 표현 할 값을 넣어서 출력하기"
   ]
  },
  {
   "cell_type": "code",
   "execution_count": 15,
   "id": "bac68dec",
   "metadata": {},
   "outputs": [
    {
     "name": "stdout",
     "output_type": "stream",
     "text": [
      "OXXXXXXXXO\n",
      "XOXXXXXXOX\n",
      "XXOXXXXOXX\n",
      "XXXOXXOXXX\n",
      "XXXXOOXXXX\n",
      "XXXXOOXXXX\n",
      "XXXOXXOXXX\n",
      "XXOXXXXOXX\n",
      "XOXXXXXXOX\n",
      "OXXXXXXXXO\n"
     ]
    }
   ],
   "source": [
    "리스트 = ([1,0,0,0,0,0,0,0,0,1],[0,1,0,0,0,0,0,0,1,0],[0,0,1,0,0,0,0,1,0,0],[0,0,0,1,0,0,1,0,0,0],[0,0,0,0,1,1,0,0,0,0],[0,0,0,0,1,1,0,0,0,0],[0,0,0,1,0,0,1,0,0,0],[0,0,1,0,0,0,0,1,0,0],[0,1,0,0,0,0,0,0,1,0],[1,0,0,0,0,0,0,0,0,1])\n",
    "for y in 리스트:\n",
    "    행 = \"\"\n",
    "    for x in y:\n",
    "        행 += \"O\" if x == 1 else \"X\"\n",
    "    print(행)"
   ]
  }
 ],
 "metadata": {
  "kernelspec": {
   "display_name": "Python 3",
   "language": "python",
   "name": "python3"
  },
  "language_info": {
   "codemirror_mode": {
    "name": "ipython",
    "version": 3
   },
   "file_extension": ".py",
   "mimetype": "text/x-python",
   "name": "python",
   "nbconvert_exporter": "python",
   "pygments_lexer": "ipython3",
   "version": "3.13.5"
  }
 },
 "nbformat": 4,
 "nbformat_minor": 5
}
