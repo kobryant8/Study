{
 "cells": [
  {
   "cell_type": "code",
   "execution_count": 11,
   "id": "2cc54766",
   "metadata": {},
   "outputs": [
    {
     "name": "stdout",
     "output_type": "stream",
     "text": [
      "XXOXX\n",
      "XOOOX\n",
      "OOOOO\n",
      "XOOOX\n",
      "XXOXX\n"
     ]
    }
   ],
   "source": [
    "a = 'X'\n",
    "b = 'O'\n",
    "for y in range(5):\n",
    "    조합 = ''\n",
    "    for x in range(5):\n",
    "        # 문자가 조합되는 코드 작성\n",
    "        if y == 0 and x == 2: \n",
    "            조합 += b\n",
    "        elif y == 1 and (x == 1 or x == 2 or x == 3) :\n",
    "            조합 += b\n",
    "        elif y == 2:\n",
    "            조합 += b\n",
    "        elif y == 3 and (x == 1 or x == 2 or x == 3) :\n",
    "            조합 += b\n",
    "        elif y == 4 and x == 2: \n",
    "            조합 += b\n",
    "        else:\n",
    "            조합 += a\n",
    "    # 조합된 문자 출력\n",
    "    print(조합)"
   ]
  },
  {
   "cell_type": "code",
   "execution_count": 12,
   "id": "174d334d",
   "metadata": {},
   "outputs": [
    {
     "name": "stdout",
     "output_type": "stream",
     "text": [
      "XXOXX\n",
      "XOOOX\n",
      "OOOOO\n",
      "XOOOX\n",
      "XXOXX\n"
     ]
    }
   ],
   "source": [
    "a = 'X'\n",
    "b = 'O'\n",
    "for y in range(5):\n",
    "    조합 = ''\n",
    "    for x in range(5):\n",
    "        # 문자가 조합 되는 코드 작성\n",
    "        if (y == 0 or y == 4) and x == 2:\n",
    "            조합 += b\n",
    "        elif (y == 1 or y == 3) and (x == 1 or x == 2 or x == 3) :\n",
    "            조합 += b\n",
    "        elif y == 2:\n",
    "            조합 += b\n",
    "        else:\n",
    "            조합 += a\n",
    "    # 조합 된 문자 출력\n",
    "    print(조합)"
   ]
  },
  {
   "cell_type": "code",
   "execution_count": 13,
   "id": "d6b6e087",
   "metadata": {},
   "outputs": [
    {
     "name": "stdout",
     "output_type": "stream",
     "text": [
      "XXOXXXX\n",
      "XOOOXXX\n",
      "OOOOOOO\n",
      "XOOOXXX\n",
      "XXOXXXX\n",
      "XXXXXXX\n",
      "XXXXXXX\n"
     ]
    }
   ],
   "source": [
    "a = 'X'\n",
    "b = 'O'\n",
    "for y in range(7):\n",
    "    조합 = ''\n",
    "    for x in range(7):\n",
    "        # 문자가 조합 되는 코드 작성\n",
    "        if (y == 0 or y == 4) and x == 2:\n",
    "            조합 += b\n",
    "        elif (y == 1 or y == 3) and (x == 1 or x == 2 or x == 3) :\n",
    "            조합 += b\n",
    "        elif y == 2:\n",
    "            조합 += b\n",
    "        else:\n",
    "            조합 += a\n",
    "    # 조합 된 문자 출력\n",
    "    print(조합)"
   ]
  },
  {
   "cell_type": "code",
   "execution_count": 26,
   "id": "b055bfa1",
   "metadata": {},
   "outputs": [
    {
     "name": "stdout",
     "output_type": "stream",
     "text": [
      "OOO\n",
      "OO\n"
     ]
    }
   ],
   "source": [
    "# 문제 2\n",
    "a = 'X'\n",
    "b = 'O'\n",
    "for y in range(10):\n",
    "    조합 = ''\n",
    "    for x in range(10):\n",
    "        # 문자가 조합 되는 코드 작성\n",
    "        if (y == 0 or y == 9) and (x == 0 or x == 9):\n",
    "            조합 += b\n",
    "        elif (y == 1 or y == 8) and (x == 1 or x == 8):\n",
    "            조합 += b\n",
    "        elif (y == 2 or y == 7) and (x == 2 or x == 7):\n",
    "            조합 += b\n",
    "        elif (y == 3 or y == 6) and (x == 3 or x == 6):\n",
    "            조합 += b\n",
    "        elif (y == 6 or y == 7) and (x == 6 or x == 7):\n",
    "            조합 += b\n",
    "            \n",
    "            # 조합 된 문자 출력\n",
    "            print(조합)\n",
    "            "
   ]
  }
 ],
 "metadata": {
  "kernelspec": {
   "display_name": "Python 3",
   "language": "python",
   "name": "python3"
  },
  "language_info": {
   "codemirror_mode": {
    "name": "ipython",
    "version": 3
   },
   "file_extension": ".py",
   "mimetype": "text/x-python",
   "name": "python",
   "nbconvert_exporter": "python",
   "pygments_lexer": "ipython3",
   "version": "3.13.5"
  }
 },
 "nbformat": 4,
 "nbformat_minor": 5
}
