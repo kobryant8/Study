{
 "cells": [
  {
   "cell_type": "code",
   "execution_count": 13,
   "id": "58c9d06d",
   "metadata": {},
   "outputs": [
    {
     "data": {
      "text/plain": [
       "'3709'"
      ]
     },
     "execution_count": 13,
     "metadata": {},
     "output_type": "execute_result"
    }
   ],
   "source": [
    "#문1) 자동차 번호가 다음과 같을 때 뒤에 4자리만 출력하세요.\n",
    "\n",
    "자동차번호 = '10라 3709'\n",
    "자동차번호[4:]"
   ]
  },
  {
   "cell_type": "code",
   "execution_count": 1,
   "id": "9b60e3a8",
   "metadata": {},
   "outputs": [
    {
     "name": "stdout",
     "output_type": "stream",
     "text": [
      "홀의 수는 4\n"
     ]
    }
   ],
   "source": [
    "#문2) 아래의 문자열에서 '홀' 이 몇개 있는지 출력하세요.\n",
    "\n",
    "문자열 = '짝홀짝홀짝홀짝홀짝'\n",
    "cnt = 0\n",
    "for i in range(len(문자열)):\n",
    "    cnt += 1 if 문자열[i] == '홀' else 0\n",
    "print(f'홀의 수는 {cnt}')"
   ]
  },
  {
   "cell_type": "code",
   "execution_count": 3,
   "id": "f3175461",
   "metadata": {},
   "outputs": [
    {
     "name": "stdout",
     "output_type": "stream",
     "text": [
      "이름: 아이유 나이: 25\n",
      "이름: 서태지 나이: 48\n"
     ]
    }
   ],
   "source": [
    "#문3) 변수에 다음과 같이 문자열과 정수를 이용하여 출력 예시와 같이 formatting 하여 출력하세요.\n",
    "\n",
    "#출력 대상\n",
    "이름1 = '아이유'\n",
    "나이1 = 25\n",
    "이름2 = \"서태지\"\n",
    "나이2 = 48\n",
    "#formatting 예시) 이름: 홍길동 나이: 16\n",
    "\n",
    "print(f'이름: {이름1} 나이: {나이1}')\n",
    "print(f'이름: {이름2} 나이: {나이2}')"
   ]
  },
  {
   "cell_type": "code",
   "execution_count": 25,
   "id": "65b2bfba",
   "metadata": {},
   "outputs": [
    {
     "data": {
      "text/plain": [
       "2"
      ]
     },
     "execution_count": 25,
     "metadata": {},
     "output_type": "execute_result"
    }
   ],
   "source": [
    "#문4) 다음 리스트에는 4개의 영화 제목이 입력되어있습니다. \"슈퍼맨\"는 몇번째 위치(인덱스)에 있는지 출력하세요.\n",
    "\n",
    "영화 = ['스파이더맨', '배트맨', '슈퍼맨', '원펀맨']\n",
    "\n",
    "영화.index('슈퍼맨')"
   ]
  },
  {
   "cell_type": "code",
   "execution_count": 4,
   "id": "40e1db0d",
   "metadata": {},
   "outputs": [
    {
     "name": "stdout",
     "output_type": "stream",
     "text": [
      "가장 긴 문자열은 간고등어 입니다.\n"
     ]
    }
   ],
   "source": [
    "#문5) 다음 리스트에서 문자열의 길이가 가장 긴 문자열을 찾아 출력하세요.\n",
    "\n",
    "리스트 = [\"쌈장\", \"불고기\", \"삼겹살\", \"된장\", \"간고등어\"]\n",
    "\n",
    "size = 0\n",
    "대상 = ''\n",
    "for item in 리스트:\n",
    "    if size < len(item):\n",
    "        size = len(item)\n",
    "        대상 = item\n",
    "print(f'가장 긴 문자열은 {대상} 입니다.')"
   ]
  },
  {
   "cell_type": "code",
   "execution_count": 32,
   "id": "1d80f30c",
   "metadata": {},
   "outputs": [
    {
     "name": "stdout",
     "output_type": "stream",
     "text": [
      "{'메로나': 1000, '폴라포': 1200, '투게더': 4000}\n"
     ]
    }
   ],
   "source": [
    "#문6) 다음 이름과 가격을 딕셔너리 자료형으로 담아서 출력하세요.\n",
    "\n",
    "#이름\t가격\n",
    "#메로나\t1000\n",
    "#폴라포\t1200\n",
    "#투게더\t4000\n",
    "\n",
    "아이스크림 = {'메로나' : 1000, '폴라포' : 1200, '투게더' : 4000 }\n",
    "\n",
    "print(아이스크림)"
   ]
  },
  {
   "cell_type": "code",
   "execution_count": 41,
   "id": "29dba786",
   "metadata": {},
   "outputs": [
    {
     "name": "stdout",
     "output_type": "stream",
     "text": [
      "40\n"
     ]
    }
   ],
   "source": [
    "#문7) 사용자로부터 하나의 숫자를 입력받고, 입력 받은 숫자에 10을 더해 출력하라.\n",
    "\n",
    "#입력 > 숫자를 입력하세요: 30\n",
    "#출력 > 40\n",
    "\n",
    "입력= int(input(\"숫자를 입력하세요:\"))\n",
    "출력 = (입력 + 10)\n",
    "print(출력)\n"
   ]
  },
  {
   "cell_type": "code",
   "execution_count": 6,
   "id": "4e45010f",
   "metadata": {},
   "outputs": [
    {
     "name": "stdout",
     "output_type": "stream",
     "text": [
      "10\n",
      "20\n",
      "30\n"
     ]
    }
   ],
   "source": [
    "#문8) 다음 코드를 for문으로 변경하여 출력하세요.\n",
    "\n",
    "#변수 = 10\n",
    "#print(변수)\n",
    "#변수 = 20\n",
    "#print(변수)\n",
    "#변수 = 30\n",
    "#print(변수)\n",
    "\n",
    "for i in range(1,4):\n",
    "    print(i * 10)"
   ]
  },
  {
   "cell_type": "code",
   "execution_count": 7,
   "id": "afdf7cde",
   "metadata": {},
   "outputs": [
    {
     "name": "stdout",
     "output_type": "stream",
     "text": [
      "나\n",
      "다\n",
      "라\n"
     ]
    }
   ],
   "source": [
    "#문9) 리스트에는 네 개의 문자열이 있습니다. for문을 사용해서 다음과 같이 출력하세요.\n",
    "\n",
    "#리스트 데이터\n",
    "#[\"가\", \"나\", \"다\", \"라\"]\n",
    "#출력\n",
    "#cmd\n",
    "#나\n",
    "#다\n",
    "#라\n",
    "\n",
    "리스트 = [\"가\", \"나\", \"다\", \"라\"]\n",
    "\n",
    "for i in range(1, len(리스트)):\n",
    "    print(리스트[i])\n",
    "\n"
   ]
  },
  {
   "cell_type": "code",
   "execution_count": 8,
   "id": "81172219",
   "metadata": {},
   "outputs": [
    {
     "name": "stdout",
     "output_type": "stream",
     "text": [
      "비트코인\n",
      "비트코인\n",
      "비트코인\n",
      "비트코인\n",
      "비트코인\n",
      "비트코인\n",
      "비트코인\n",
      "비트코인\n",
      "비트코인\n",
      "비트코인\n"
     ]
    }
   ],
   "source": [
    "#문10) 다음 \"비트코인\" 문자열을 10번 화면에 출력하는 함수를 정의하세요.\n",
    "\n",
    "#출력\n",
    "#cmd\n",
    "#비트코인\n",
    "#비트코인\n",
    "#비트코인\n",
    "#비트코인\n",
    "#비트코인\n",
    "#비트코인\n",
    "#비트코인\n",
    "##비트코인\n",
    "#비트코인\n",
    "\n",
    "def 반복함수(문자열):\n",
    "    for i in range(10):\n",
    "        print(문자열 * 1)\n",
    "        \n",
    "반복함수('비트코인')"
   ]
  }
 ],
 "metadata": {
  "kernelspec": {
   "display_name": "Python 3",
   "language": "python",
   "name": "python3"
  },
  "language_info": {
   "codemirror_mode": {
    "name": "ipython",
    "version": 3
   },
   "file_extension": ".py",
   "mimetype": "text/x-python",
   "name": "python",
   "nbconvert_exporter": "python",
   "pygments_lexer": "ipython3",
   "version": "3.13.5"
  }
 },
 "nbformat": 4,
 "nbformat_minor": 5
}
