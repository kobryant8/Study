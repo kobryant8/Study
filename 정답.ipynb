{
 "cells": [
  {
   "cell_type": "code",
   "execution_count": 1,
   "id": "7e6b2955",
   "metadata": {},
   "outputs": [
    {
     "name": "stdout",
     "output_type": "stream",
     "text": [
      "숫자를 입력해 주세요.\n",
      "50보다 큰 수: [850, 8888, 8888, 888, 888, 888, 888, 88888, 88888]\n"
     ]
    }
   ],
   "source": [
    "# 문제 1 \n",
    "받은수 = []\n",
    "print('숫자를 입력해 주세요.')\n",
    "for a in range(10):\n",
    "    입력 = int(input(f'{a+1}번째 : '))\n",
    "    받은수.append(입력)\n",
    "\n",
    "\n",
    "결과 = []\n",
    "\n",
    "for 입력 in 받은수:\n",
    "    if 입력 > 50:\n",
    "        결과.append(입력)\n",
    "\n",
    "print('50보다 큰 수:', 결과)"
   ]
  },
  {
   "cell_type": "code",
   "execution_count": null,
   "id": "12e640d8",
   "metadata": {},
   "outputs": [],
   "source": [
    "# 문제 2\n",
    "print(\"컴퓨터에 접속합니다. ID 와 비밀번호를 입력해주세요.\")\n",
    "\n",
    "id = \"pyson-user1\"\n",
    "비번 = \"pysonissodifficult1234!\"\n",
    "\n",
    "입력id = input(\"ID를 입력하세요: \")\n",
    "입력비번 = input(\"비밀번호를 입력하세요: \")\n",
    "\n",
    "if 입력id == id and 입력비번 == 비번:\n",
    "    print(\"로그인 성공!\")\n",
    "else:\n",
    "    print(\"ID 또는 비밀번호가 틀렸습니다.\")"
   ]
  },
  {
   "cell_type": "code",
   "execution_count": null,
   "id": "e85d2c76",
   "metadata": {},
   "outputs": [],
   "source": [
    "# 문제 3\n",
    "num = 10\n",
    "while num != 0:\n",
    "    print(num)\n",
    "    num -= 1\n",
    "print('발사!')\n"
   ]
  },
  {
   "cell_type": "code",
   "execution_count": null,
   "id": "1ba68ab5",
   "metadata": {},
   "outputs": [],
   "source": [
    "#문제 3다른 해답\n",
    "\n",
    "count= 10\n",
    "while count >= 1:\n",
    "    print(count)\n",
    "    count -= 1\n",
    "    \n",
    "print(\"발사!\")"
   ]
  }
 ],
 "metadata": {
  "kernelspec": {
   "display_name": "Python 3",
   "language": "python",
   "name": "python3"
  },
  "language_info": {
   "codemirror_mode": {
    "name": "ipython",
    "version": 3
   },
   "file_extension": ".py",
   "mimetype": "text/x-python",
   "name": "python",
   "nbconvert_exporter": "python",
   "pygments_lexer": "ipython3",
   "version": "3.13.5"
  }
 },
 "nbformat": 4,
 "nbformat_minor": 5
}
