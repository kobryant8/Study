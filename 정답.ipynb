{
 "cells": [
  {
   "cell_type": "code",
   "execution_count": 1,
   "id": "7e6b2955",
   "metadata": {},
   "outputs": [
    {
     "name": "stdout",
     "output_type": "stream",
     "text": [
      "숫자를 입력해 주세요.\n",
      "50보다 큰 수: [850, 8888, 8888, 888, 888, 888, 888, 88888, 88888]\n"
     ]
    }
   ],
   "source": [
    "# 문제 1 \n",
    "받은수 = []\n",
    "print('숫자를 입력해 주세요.')\n",
    "for a in range(10):\n",
    "    입력 = int(input(f'{a+1}번째 : '))\n",
    "    받은수.append(입력)\n",
    "\n",
    "\n",
    "결과 = []\n",
    "\n",
    "for 입력 in 받은수:\n",
    "    if 입력 > 50:\n",
    "        결과.append(입력)\n",
    "\n",
    "print('50보다 큰 수:', 결과)"
   ]
  },
  {
   "cell_type": "code",
   "execution_count": null,
   "id": "12e640d8",
   "metadata": {},
   "outputs": [],
   "source": [
    "# 문제 2\n",
    "print(\"컴퓨터에 접속합니다. ID 와 비밀번호를 입력해주세요.\")\n",
    "\n",
    "id = \"pyson-user1\"\n",
    "비번 = \"pysonissodifficult1234!\"\n",
    "\n",
    "입력id = input(\"ID를 입력하세요: \")\n",
    "입력비번 = input(\"비밀번호를 입력하세요: \")\n",
    "\n",
    "if 입력id == id and 입력비번 == 비번:\n",
    "    print(\"로그인 성공!\")\n",
    "else:\n",
    "    print(\"ID 또는 비밀번호가 틀렸습니다.\")"
   ]
  },
  {
   "cell_type": "code",
   "execution_count": null,
   "id": "e85d2c76",
   "metadata": {},
   "outputs": [],
   "source": [
    "# 문제 3\n",
    "num = 10\n",
    "while num != 0:\n",
    "    print(num)\n",
    "    num -= 1\n",
    "print('발사!')\n"
   ]
  },
  {
   "cell_type": "code",
   "execution_count": null,
   "id": "1ba68ab5",
   "metadata": {},
   "outputs": [],
   "source": [
    "#문제 3다른 해답\n",
    "\n",
    "count= 10\n",
    "while count >= 1:\n",
    "    print(count)\n",
    "    count -= 1\n",
    "    \n",
    "print(\"발사!\")"
   ]
  },
  {
   "cell_type": "code",
   "execution_count": 1,
   "id": "ff9ceaeb",
   "metadata": {},
   "outputs": [
    {
     "name": "stdout",
     "output_type": "stream",
     "text": [
      "******\n",
      "*    *\n",
      "*    *\n",
      "*    *\n",
      "*    *\n",
      "******\n"
     ]
    }
   ],
   "source": [
    "#문제4\n",
    "size = int(input(\"n의 정수를 입력하세요\"))\n",
    "for y in range(size):\n",
    "    row = ''\n",
    "    for x in range(size):\n",
    "        if y == 0 or y == (size - 1):\n",
    "            row += '*'\n",
    "        elif x == 0 or x == (size - 1) :\n",
    "            row += '*'\n",
    "        else:\n",
    "            row += ' '\n",
    "    print(row)"
   ]
  },
  {
   "cell_type": "code",
   "execution_count": 2,
   "id": "2cabf61b",
   "metadata": {},
   "outputs": [
    {
     "name": "stdout",
     "output_type": "stream",
     "text": [
      "숫자 맞추기 게임\n",
      "정답입니다.\n"
     ]
    }
   ],
   "source": [
    "#문제5\n",
    "print(\"숫자 맞추기 게임\")\n",
    "q = input(\"정답 숫자를 입력하세요 (1~100): \")\n",
    "c = 0\n",
    "while True:\n",
    "    v = input(\"답을 입력하세요.\")\n",
    "    if q == v:\n",
    "        print(\"정답입니다.\")\n",
    "        break\n",
    "    else:\n",
    "        print(\"정답이 아닙니다.\")\n",
    "    c += 1"
   ]
  },
  {
   "cell_type": "code",
   "execution_count": 3,
   "id": "9358b721",
   "metadata": {},
   "outputs": [
    {
     "name": "stdout",
     "output_type": "stream",
     "text": [
      "XOXOXOXO\n",
      "OXOXOXOX\n",
      "XOXOXOXO\n",
      "OXOXOXOX\n",
      "XOXOXOXO\n",
      "OXOXOXOX\n",
      "XOXOXOXO\n",
      "OXOXOXOX\n"
     ]
    }
   ],
   "source": [
    "#문제6\n",
    "i = 1\n",
    "size = 8\n",
    "for y in range(size):\n",
    "    row = ''\n",
    "    for x in range(i, i + size):\n",
    "        if y % 2 == 0:\n",
    "            row += 'O' if x % 2 == 0 else 'X'\n",
    "        else:\n",
    "            row += 'X' if x % 2 == 0 else 'O'\n",
    "        i += 1\n",
    "    print(row)"
   ]
  },
  {
   "cell_type": "code",
   "execution_count": 4,
   "id": "d4b3156b",
   "metadata": {},
   "outputs": [
    {
     "name": "stdout",
     "output_type": "stream",
     "text": [
      "🎬 영화 추천 프로그램에 오신 걸 환영합니다!\n",
      "원하는 영화 장르를 입력하면 추천해드릴게요.\n",
      "[] [] ['덤앤더머'] []\n"
     ]
    }
   ],
   "source": [
    "#문제7\n",
    "print(\"🎬 영화 추천 프로그램에 오신 걸 환영합니다!\")\n",
    "print(\"원하는 영화 장르를 입력하면 추천해드릴게요.\")\n",
    "\n",
    "장르 = input(\"액션, 로맨스, 코미디, 공포 장르를 입력하세요\")\n",
    "\n",
    "액션 = []\n",
    "로맨스 = []\n",
    "코미디 = []\n",
    "공포 = []\n",
    "\n",
    "if 장르 == '액션' :\n",
    "    while True:\n",
    "        영화 = input(\"영화를 입력하세요\")\n",
    "        if 영화 == '':\n",
    "            break\n",
    "        액션.append(영화)\n",
    "if 장르 == '로맨스' :\n",
    "    로맨스.append(input(\"영화를 입력하세요\"))\n",
    "if 장르 == '코미디' :\n",
    "    코미디.append(input(\"영화를 입력하세요\"))\n",
    "if 장르 == '공포' :\n",
    "    공포.append(input(\"영화를 입력하세요\"))\n",
    "    \n",
    "print(액션, 로맨스, 코미디, 공포)"
   ]
  },
  {
   "cell_type": "code",
   "execution_count": 5,
   "id": "83a3f98f",
   "metadata": {},
   "outputs": [
    {
     "name": "stdout",
     "output_type": "stream",
     "text": [
      "XXXXOXXXX\n",
      "XXXOXOXXX\n",
      "XXOXXXOXX\n",
      "XOXXXXXOX\n",
      "OXXXXXXXO\n",
      "XOXXXXXOX\n",
      "XXOXXXOXX\n",
      "XXXOXOXXX\n",
      "XXXXOXXXX\n"
     ]
    }
   ],
   "source": [
    "#문제8\n",
    "size = 9\n",
    "for y in range(size):\n",
    "    row = ''\n",
    "    for x in range(size):\n",
    "        if (y == 0 or y == 8) and x == 4:\n",
    "            row += 'O'\n",
    "        elif (y == 1 or y == 7) and (x == 3 or x == 5):\n",
    "            row += 'O'\n",
    "        elif (y == 2 or y == 6) and (x == 2 or x == 6):\n",
    "            row += 'O'\n",
    "        elif (y == 3 or y == 5) and (x == 1 or x == 7):\n",
    "            row += 'O'\n",
    "        elif y == 4 and (x == 0 or x == 8):\n",
    "            row += 'O'\n",
    "        else:\n",
    "            row += 'X'\n",
    "    print(row)"
   ]
  },
  {
   "cell_type": "code",
   "execution_count": 6,
   "id": "b9b70004",
   "metadata": {},
   "outputs": [
    {
     "ename": "KeyboardInterrupt",
     "evalue": "Interrupted by user",
     "output_type": "error",
     "traceback": [
      "\u001b[31m---------------------------------------------------------------------------\u001b[39m",
      "\u001b[31mKeyboardInterrupt\u001b[39m                         Traceback (most recent call last)",
      "\u001b[36mCell\u001b[39m\u001b[36m \u001b[39m\u001b[32mIn[6]\u001b[39m\u001b[32m, line 5\u001b[39m\n\u001b[32m      2\u001b[39m \u001b[38;5;28mlist\u001b[39m = []\n\u001b[32m      4\u001b[39m \u001b[38;5;28;01mwhile\u001b[39;00m \u001b[38;5;28;01mTrue\u001b[39;00m:\n\u001b[32m----> \u001b[39m\u001b[32m5\u001b[39m     item = \u001b[38;5;28;43minput\u001b[39;49m\u001b[43m(\u001b[49m\u001b[33;43m\"\u001b[39;49m\u001b[33;43m물건를 입력하세요.\u001b[39;49m\u001b[33;43m\"\u001b[39;49m\u001b[43m)\u001b[49m\n\u001b[32m      6\u001b[39m     \u001b[38;5;28;01mif\u001b[39;00m item == \u001b[33m'\u001b[39m\u001b[33m끝\u001b[39m\u001b[33m'\u001b[39m:\n\u001b[32m      7\u001b[39m         \u001b[38;5;28;01mbreak\u001b[39;00m\n",
      "\u001b[36mFile \u001b[39m\u001b[32m~\\AppData\\Roaming\\Python\\Python313\\site-packages\\ipykernel\\kernelbase.py:1282\u001b[39m, in \u001b[36mKernel.raw_input\u001b[39m\u001b[34m(self, prompt)\u001b[39m\n\u001b[32m   1280\u001b[39m     msg = \u001b[33m\"\u001b[39m\u001b[33mraw_input was called, but this frontend does not support input requests.\u001b[39m\u001b[33m\"\u001b[39m\n\u001b[32m   1281\u001b[39m     \u001b[38;5;28;01mraise\u001b[39;00m StdinNotImplementedError(msg)\n\u001b[32m-> \u001b[39m\u001b[32m1282\u001b[39m \u001b[38;5;28;01mreturn\u001b[39;00m \u001b[38;5;28;43mself\u001b[39;49m\u001b[43m.\u001b[49m\u001b[43m_input_request\u001b[49m\u001b[43m(\u001b[49m\n\u001b[32m   1283\u001b[39m \u001b[43m    \u001b[49m\u001b[38;5;28;43mstr\u001b[39;49m\u001b[43m(\u001b[49m\u001b[43mprompt\u001b[49m\u001b[43m)\u001b[49m\u001b[43m,\u001b[49m\n\u001b[32m   1284\u001b[39m \u001b[43m    \u001b[49m\u001b[38;5;28;43mself\u001b[39;49m\u001b[43m.\u001b[49m\u001b[43m_parent_ident\u001b[49m\u001b[43m[\u001b[49m\u001b[33;43m\"\u001b[39;49m\u001b[33;43mshell\u001b[39;49m\u001b[33;43m\"\u001b[39;49m\u001b[43m]\u001b[49m\u001b[43m,\u001b[49m\n\u001b[32m   1285\u001b[39m \u001b[43m    \u001b[49m\u001b[38;5;28;43mself\u001b[39;49m\u001b[43m.\u001b[49m\u001b[43mget_parent\u001b[49m\u001b[43m(\u001b[49m\u001b[33;43m\"\u001b[39;49m\u001b[33;43mshell\u001b[39;49m\u001b[33;43m\"\u001b[39;49m\u001b[43m)\u001b[49m\u001b[43m,\u001b[49m\n\u001b[32m   1286\u001b[39m \u001b[43m    \u001b[49m\u001b[43mpassword\u001b[49m\u001b[43m=\u001b[49m\u001b[38;5;28;43;01mFalse\u001b[39;49;00m\u001b[43m,\u001b[49m\n\u001b[32m   1287\u001b[39m \u001b[43m\u001b[49m\u001b[43m)\u001b[49m\n",
      "\u001b[36mFile \u001b[39m\u001b[32m~\\AppData\\Roaming\\Python\\Python313\\site-packages\\ipykernel\\kernelbase.py:1325\u001b[39m, in \u001b[36mKernel._input_request\u001b[39m\u001b[34m(self, prompt, ident, parent, password)\u001b[39m\n\u001b[32m   1322\u001b[39m \u001b[38;5;28;01mexcept\u001b[39;00m \u001b[38;5;167;01mKeyboardInterrupt\u001b[39;00m:\n\u001b[32m   1323\u001b[39m     \u001b[38;5;66;03m# re-raise KeyboardInterrupt, to truncate traceback\u001b[39;00m\n\u001b[32m   1324\u001b[39m     msg = \u001b[33m\"\u001b[39m\u001b[33mInterrupted by user\u001b[39m\u001b[33m\"\u001b[39m\n\u001b[32m-> \u001b[39m\u001b[32m1325\u001b[39m     \u001b[38;5;28;01mraise\u001b[39;00m \u001b[38;5;167;01mKeyboardInterrupt\u001b[39;00m(msg) \u001b[38;5;28;01mfrom\u001b[39;00m\u001b[38;5;250m \u001b[39m\u001b[38;5;28;01mNone\u001b[39;00m\n\u001b[32m   1326\u001b[39m \u001b[38;5;28;01mexcept\u001b[39;00m \u001b[38;5;167;01mException\u001b[39;00m:\n\u001b[32m   1327\u001b[39m     \u001b[38;5;28mself\u001b[39m.log.warning(\u001b[33m\"\u001b[39m\u001b[33mInvalid Message:\u001b[39m\u001b[33m\"\u001b[39m, exc_info=\u001b[38;5;28;01mTrue\u001b[39;00m)\n",
      "\u001b[31mKeyboardInterrupt\u001b[39m: Interrupted by user"
     ]
    }
   ],
   "source": [
    "#문제9\n",
    "list = []\n",
    "\n",
    "while True:\n",
    "    item = input(\"물건를 입력하세요.\")\n",
    "    if item == '끝':\n",
    "        break\n",
    "    list.append(item)\n",
    "    \n",
    "cnt = 1\n",
    "for item in list:\n",
    "    print(f'{cnt}. {item}')\n",
    "    cnt += 1"
   ]
  },
  {
   "cell_type": "code",
   "execution_count": 8,
   "id": "ed7163e7",
   "metadata": {},
   "outputs": [
    {
     "name": "stdout",
     "output_type": "stream",
     "text": [
      "XXXXX\n",
      "XXXXX\n",
      "XXOXX\n",
      "XXXXX\n",
      "XXXXX\n"
     ]
    }
   ],
   "source": [
    "#문제10\n",
    "s1 = 5\n",
    "s2 = 7\n",
    "s3 = 9\n",
    "center = s1 // 2\n",
    "for y in range(s1):\n",
    "    row = ''\n",
    "    for x in range(s1):\n",
    "        if y == center and x == center:\n",
    "            row += 'O'\n",
    "        else:\n",
    "            row += 'X'\n",
    "    print(row)"
   ]
  }
 ],
 "metadata": {
  "kernelspec": {
   "display_name": "Python 3",
   "language": "python",
   "name": "python3"
  },
  "language_info": {
   "codemirror_mode": {
    "name": "ipython",
    "version": 3
   },
   "file_extension": ".py",
   "mimetype": "text/x-python",
   "name": "python",
   "nbconvert_exporter": "python",
   "pygments_lexer": "ipython3",
   "version": "3.13.5"
  }
 },
 "nbformat": 4,
 "nbformat_minor": 5
}
