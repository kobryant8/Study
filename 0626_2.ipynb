{
 "cells": [
  {
   "cell_type": "code",
   "execution_count": 1,
   "id": "7ccc45f3",
   "metadata": {},
   "outputs": [],
   "source": [
    "def 더하기(a,b):\n",
    "    print(a + b)"
   ]
  },
  {
   "cell_type": "code",
   "execution_count": 2,
   "id": "17917350",
   "metadata": {},
   "outputs": [
    {
     "name": "stdout",
     "output_type": "stream",
     "text": [
      "14\n"
     ]
    }
   ],
   "source": [
    "더하기(10,4) #14"
   ]
  },
  {
   "cell_type": "code",
   "execution_count": 3,
   "id": "02272a5d",
   "metadata": {},
   "outputs": [],
   "source": [
    "def 더하기(a,b):\n",
    "    return a +b\n",
    "\n",
    "결과 = 더하기(20,10) #30"
   ]
  },
  {
   "cell_type": "code",
   "execution_count": 4,
   "id": "eccfd678",
   "metadata": {},
   "outputs": [
    {
     "name": "stdout",
     "output_type": "stream",
     "text": [
      "30\n"
     ]
    }
   ],
   "source": [
    "print(결과)"
   ]
  },
  {
   "cell_type": "code",
   "execution_count": null,
   "id": "83117abf",
   "metadata": {},
   "outputs": [],
   "source": [
    "#문제) 간단한 계산기를 만드세요."
   ]
  },
  {
   "cell_type": "code",
   "execution_count": null,
   "id": "88836ee9",
   "metadata": {},
   "outputs": [],
   "source": [
    "def 더하기(a,b):\n",
    "    return a + b\n"
   ]
  },
  {
   "cell_type": "code",
   "execution_count": null,
   "id": "3662ea5e",
   "metadata": {},
   "outputs": [],
   "source": [
    "def 빼기(a,b):\n",
    "    return a - b\n"
   ]
  },
  {
   "cell_type": "code",
   "execution_count": null,
   "id": "e20d63fa",
   "metadata": {},
   "outputs": [],
   "source": [
    "def 나누기(a,b):\n",
    "    return a / b\n"
   ]
  },
  {
   "cell_type": "code",
   "execution_count": null,
   "id": "2fa8f9c9",
   "metadata": {},
   "outputs": [],
   "source": [
    "def 곱하기(a,b):\n",
    "    return a * b\n"
   ]
  },
  {
   "cell_type": "code",
   "execution_count": 16,
   "id": "0ee9f99b",
   "metadata": {},
   "outputs": [],
   "source": [
    "def f1(a,b):\n",
    "    return int(a) + int(b)\n",
    "\n",
    "def f2(a,b):\n",
    "   return int(a) - int(b)\n",
    "\n",
    "def f3(a,b):\n",
    "    return int(a) * int(b)\n",
    "\n",
    "def f4(a,b):\n",
    "    return int(a) / int(b)\n",
    "    "
   ]
  },
  {
   "cell_type": "code",
   "execution_count": 18,
   "id": "a92fbea0",
   "metadata": {},
   "outputs": [
    {
     "name": "stdout",
     "output_type": "stream",
     "text": [
      "10\n"
     ]
    },
    {
     "ename": "ValueError",
     "evalue": "invalid literal for int() with base 10: ''",
     "output_type": "error",
     "traceback": [
      "\u001b[31m---------------------------------------------------------------------------\u001b[39m",
      "\u001b[31mValueError\u001b[39m                                Traceback (most recent call last)",
      "\u001b[36mCell\u001b[39m\u001b[36m \u001b[39m\u001b[32mIn[18]\u001b[39m\u001b[32m, line 2\u001b[39m\n\u001b[32m      1\u001b[39m \u001b[38;5;28;01mwhile\u001b[39;00m \u001b[38;5;28;01mTrue\u001b[39;00m:\n\u001b[32m----> \u001b[39m\u001b[32m2\u001b[39m     a = \u001b[38;5;28;43mint\u001b[39;49m\u001b[43m(\u001b[49m\u001b[38;5;28;43minput\u001b[39;49m\u001b[43m(\u001b[49m\u001b[33;43m\"\u001b[39;49m\u001b[33;43m첫번째 숫자\u001b[39;49m\u001b[33;43m\"\u001b[39;49m\u001b[43m)\u001b[49m\u001b[43m)\u001b[49m\n\u001b[32m      3\u001b[39m     s = \u001b[38;5;28minput\u001b[39m(\u001b[33m\"\u001b[39m\u001b[33m연산 기호를 입력하세요.\u001b[39m\u001b[33m\"\u001b[39m)\n\u001b[32m      4\u001b[39m     b = \u001b[38;5;28mint\u001b[39m(\u001b[38;5;28minput\u001b[39m(\u001b[33m\"\u001b[39m\u001b[33m두번째 숫자\u001b[39m\u001b[33m\"\u001b[39m ))\n",
      "\u001b[31mValueError\u001b[39m: invalid literal for int() with base 10: ''"
     ]
    }
   ],
   "source": [
    "while True:\n",
    "    a = int(input(\"첫번째 숫자\"))\n",
    "    s = input(\"연산 기호를 입력하세요.\")\n",
    "    b = int(input(\"두번째 숫자\" ))\n",
    "    \n",
    "    if s == \"+\":\n",
    "        print(f1(a,b))\n",
    "    elif s == \"-\":\n",
    "        print(f2(a,b))\n",
    "    elif s == \"*\":\n",
    "        print(f3(a,b))\n",
    "    elif s == \"/\":\n",
    "        print(f4(a, b))\n",
    "    else:\n",
    "        break"
   ]
  }
 ],
 "metadata": {
  "kernelspec": {
   "display_name": "Python 3",
   "language": "python",
   "name": "python3"
  },
  "language_info": {
   "codemirror_mode": {
    "name": "ipython",
    "version": 3
   },
   "file_extension": ".py",
   "mimetype": "text/x-python",
   "name": "python",
   "nbconvert_exporter": "python",
   "pygments_lexer": "ipython3",
   "version": "3.13.5"
  }
 },
 "nbformat": 4,
 "nbformat_minor": 5
}
