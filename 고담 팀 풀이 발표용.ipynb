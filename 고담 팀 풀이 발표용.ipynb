{
 "cells": [
  {
   "cell_type": "code",
   "execution_count": null,
   "id": "8fa78775",
   "metadata": {},
   "outputs": [],
   "source": [
    "문1) 자동차 번호가 다음과 같을 때 뒤에 4자리만 출력하세요.\n",
    "\n",
    "자동차번호 = '10라 3709'\n",
    "코드를 작성하세요."
   ]
  },
  {
   "cell_type": "code",
   "execution_count": 2,
   "id": "fed117b7",
   "metadata": {},
   "outputs": [
    {
     "name": "stdout",
     "output_type": "stream",
     "text": [
      "3709\n"
     ]
    },
    {
     "data": {
      "text/plain": [
       "3709"
      ]
     },
     "execution_count": 2,
     "metadata": {},
     "output_type": "execute_result"
    }
   ],
   "source": [
    "자동차번호 = '10라 3709'\n",
    "print(자동차번호[-4:])\n",
    "3709"
   ]
  },
  {
   "cell_type": "code",
   "execution_count": null,
   "id": "9900f764",
   "metadata": {},
   "outputs": [],
   "source": [
    "문4) 다음 리스트에는 4개의 영화 제목이 입력되어있습니다. \"슈퍼맨\"는 몇번째 위치(인덱스)에 있는지 출력하세요.\n",
    "\n",
    "영화 = ['스파이더맨', '배트맨', '슈퍼맨', '원펀맨']\n",
    "코드를 작성하세요."
   ]
  },
  {
   "cell_type": "code",
   "execution_count": 1,
   "id": "e3120dd0",
   "metadata": {},
   "outputs": [
    {
     "name": "stdout",
     "output_type": "stream",
     "text": [
      "슈퍼맨의 인덱스는 2 입니다.\n"
     ]
    }
   ],
   "source": [
    "영화 = ['스파이더맨', '배트맨', '슈퍼맨', '원펀맨']\n",
    "cnt = 0\n",
    "for item in 영화:\n",
    "    if item == '슈퍼맨':\n",
    "        break\n",
    "    cnt += 1\n",
    "print(f\"슈퍼맨의 인덱스는 {cnt} 입니다.\")"
   ]
  },
  {
   "cell_type": "code",
   "execution_count": null,
   "id": "7221ed5b",
   "metadata": {},
   "outputs": [],
   "source": [
    "문6) 다음 이름과 가격을 딕셔너리 자료형으로 담아서 출력하세요.\n",
    "\n",
    "#이름    가격\n",
    "#메로나    1000\n",
    "#폴라포    1200\n",
    "#투게더    4000"
   ]
  },
  {
   "cell_type": "code",
   "execution_count": 3,
   "id": "638a7354",
   "metadata": {},
   "outputs": [
    {
     "name": "stdout",
     "output_type": "stream",
     "text": [
      "{'메로나': 1000, '폴라포': 1200, '투게더': 4000}\n"
     ]
    }
   ],
   "source": [
    "아이스크림 = {'메로나' : 1000, '폴라포' : 1200, '투게더' : 4000 }\n",
    "\n",
    "print(아이스크림)"
   ]
  },
  {
   "cell_type": "code",
   "execution_count": null,
   "id": "d7c7effc",
   "metadata": {},
   "outputs": [],
   "source": [
    "문8) 다음 코드를 for문으로 변경하여 출력하세요.\n",
    "\n",
    "변수 = 10\n",
    "print(변수)\n",
    "변수 = 20\n",
    "print(변수)\n",
    "변수 = 30\n",
    "print(변수)\n"
   ]
  },
  {
   "cell_type": "code",
   "execution_count": null,
   "id": "9bee1c65",
   "metadata": {},
   "outputs": [],
   "source": [
    "for 변수 in [10, 20, 30]:\n",
    "    print(변수)"
   ]
  },
  {
   "cell_type": "code",
   "execution_count": null,
   "id": "0b2ec81d",
   "metadata": {},
   "outputs": [],
   "source": [
    "문9) 리스트에는 네 개의 문자열이 있습니다. for문을 사용해서 다음과 같이 출력하세요.\n",
    "\n",
    "리스트 데이터\n",
    "[\"가\", \"나\", \"다\", \"라\"]\n",
    "출력\n",
    "cmd\n",
    "나\n",
    "다\n",
    "라"
   ]
  },
  {
   "cell_type": "code",
   "execution_count": null,
   "id": "97c3cb1f",
   "metadata": {},
   "outputs": [],
   "source": [
    "리스트 = [\"가\", \"나\", \"다\", \"라\"]\n",
    "\n",
    "for 문자 in 리스트[1:]:\n",
    "    print(문자)"
   ]
  }
 ],
 "metadata": {
  "kernelspec": {
   "display_name": "Python 3",
   "language": "python",
   "name": "python3"
  },
  "language_info": {
   "codemirror_mode": {
    "name": "ipython",
    "version": 3
   },
   "file_extension": ".py",
   "mimetype": "text/x-python",
   "name": "python",
   "nbconvert_exporter": "python",
   "pygments_lexer": "ipython3",
   "version": "3.13.5"
  }
 },
 "nbformat": 4,
 "nbformat_minor": 5
}
