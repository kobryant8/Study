{
 "cells": [
  {
   "cell_type": "code",
   "execution_count": 1,
   "id": "e51c569a",
   "metadata": {},
   "outputs": [
    {
     "name": "stdout",
     "output_type": "stream",
     "text": [
      "<class 'list'>\n"
     ]
    }
   ],
   "source": [
    "a = []\n",
    "print(type(a))"
   ]
  },
  {
   "cell_type": "code",
   "execution_count": 4,
   "id": "20005832",
   "metadata": {},
   "outputs": [
    {
     "name": "stdout",
     "output_type": "stream",
     "text": [
      "[10]\n",
      "10\n",
      "[5]\n"
     ]
    }
   ],
   "source": [
    "a = []\n",
    "a.append(10)\n",
    "print(a)\n",
    "print(a[0])\n",
    "a[0] = 5\n",
    "print(a)"
   ]
  },
  {
   "cell_type": "code",
   "execution_count": 6,
   "id": "8323bfd7",
   "metadata": {},
   "outputs": [
    {
     "name": "stdout",
     "output_type": "stream",
     "text": [
      "3\n"
     ]
    }
   ],
   "source": [
    "a = []\n",
    "a.append(1)\n",
    "a.append(2)\n",
    "a.append(3)\n",
    "a.append(4)\n",
    "print(a[2])"
   ]
  },
  {
   "cell_type": "code",
   "execution_count": 8,
   "id": "28b984f7",
   "metadata": {},
   "outputs": [
    {
     "name": "stdout",
     "output_type": "stream",
     "text": [
      "3\n",
      "6\n",
      "9\n",
      "12\n"
     ]
    }
   ],
   "source": [
    "for 변수 in a:\n",
    "    print(변수 * a[2])"
   ]
  },
  {
   "cell_type": "code",
   "execution_count": 14,
   "id": "355cba30",
   "metadata": {},
   "outputs": [
    {
     "name": "stdout",
     "output_type": "stream",
     "text": [
      "1\n",
      "2\n",
      "3\n",
      "4\n"
     ]
    }
   ],
   "source": [
    "b = range(1,5)\n",
    "for 변수 in a:\n",
    "    print(변수)"
   ]
  },
  {
   "cell_type": "code",
   "execution_count": 15,
   "id": "d45292cc",
   "metadata": {},
   "outputs": [
    {
     "name": "stdout",
     "output_type": "stream",
     "text": [
      "<class 'range'>\n",
      "<class 'range'>\n"
     ]
    }
   ],
   "source": [
    "print(type(a))\n",
    "print(type(b))"
   ]
  },
  {
   "cell_type": "code",
   "execution_count": 16,
   "id": "f0d930c3",
   "metadata": {},
   "outputs": [
    {
     "name": "stdout",
     "output_type": "stream",
     "text": [
      "1 = 1\n",
      "4 = 4\n",
      "9 = 9\n",
      "16 = 16\n"
     ]
    }
   ],
   "source": [
    "for 인덱스 in range(0,4):\n",
    "    print(f'{a[인덱스] * b[인덱스]} = {a[인덱스] * b[인덱스]}')"
   ]
  }
 ],
 "metadata": {
  "kernelspec": {
   "display_name": "Python 3",
   "language": "python",
   "name": "python3"
  },
  "language_info": {
   "codemirror_mode": {
    "name": "ipython",
    "version": 3
   },
   "file_extension": ".py",
   "mimetype": "text/x-python",
   "name": "python",
   "nbconvert_exporter": "python",
   "pygments_lexer": "ipython3",
   "version": "3.13.5"
  }
 },
 "nbformat": 4,
 "nbformat_minor": 5
}
