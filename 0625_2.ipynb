{
 "cells": [
  {
   "cell_type": "code",
   "execution_count": 13,
   "id": "602a78d3",
   "metadata": {},
   "outputs": [
    {
     "ename": "SyntaxError",
     "evalue": "invalid syntax (654916201.py, line 2)",
     "output_type": "error",
     "traceback": [
      "  \u001b[36mCell\u001b[39m\u001b[36m \u001b[39m\u001b[32mIn[13]\u001b[39m\u001b[32m, line 2\u001b[39m\n\u001b[31m    \u001b[39m\u001b[31minterest 리스트에는 아래의 데이터가 바인딩되어 있다.\u001b[39m\n             ^\n\u001b[31mSyntaxError\u001b[39m\u001b[31m:\u001b[39m invalid syntax\n"
     ]
    }
   ],
   "source": [
    "#문제7\n",
    "interest 리스트에는 아래의 데이터가 바인딩되어 있다.\n",
    "interest 리스트를 사용하여 아래와 같이 화면에 출력하라.\n",
    "출력 예시: 삼성전자 Naver"
   ]
  },
  {
   "cell_type": "code",
   "execution_count": null,
   "id": "7e35e5db",
   "metadata": {},
   "outputs": [
    {
     "name": "stdout",
     "output_type": "stream",
     "text": [
      "삼성전자 Naver\n"
     ]
    }
   ],
   "source": [
    "interest = ['삼성전자', 'LG전자', 'Naver']\n",
    "print(interest[0],interest[2])"
   ]
  },
  {
   "cell_type": "code",
   "execution_count": null,
   "id": "02eafcd5",
   "metadata": {},
   "outputs": [],
   "source": [
    "#문제8\n",
    "리스트 합계\n",
    "숫자 5개로 이루어진 리스트가 있을 때, 리스트에 있는 숫자의 총합을 출력하세요."
   ]
  },
  {
   "cell_type": "code",
   "execution_count": 11,
   "id": "ff2d1f0d",
   "metadata": {},
   "outputs": [
    {
     "name": "stdout",
     "output_type": "stream",
     "text": [
      "25\n"
     ]
    }
   ],
   "source": [
    "list = [1,3,5,7,9]\n",
    "print (list[0] + list[1] + list[2] + list[3] + list[4])"
   ]
  },
  {
   "cell_type": "code",
   "execution_count": null,
   "id": "7947b11a",
   "metadata": {},
   "outputs": [],
   "source": [
    "o o o o o o o\n",
    "o x x  x x  x o\n",
    "o x x  x x  x o\n",
    "o x x  x x  x o\n",
    "o x x  x x  x o\n",
    "o x x  x x  x o\n",
    "o o o o o o o\n",
    "\n",
    "모양을 만드시오."
   ]
  },
  {
   "cell_type": "code",
   "execution_count": 14,
   "id": "4cbb0b6c",
   "metadata": {},
   "outputs": [
    {
     "name": "stdout",
     "output_type": "stream",
     "text": [
      "o o o o o o o \n",
      "o x x x x x o \n",
      "o x x x x x o \n",
      "o x x x x x o \n",
      "o x x x x x o \n",
      "o x x x x x o \n",
      "o o o o o o o \n"
     ]
    }
   ],
   "source": [
    "for y in range(7):  # 0~6까지 7줄\n",
    "    줄 = \"\"\n",
    "    for x in range(7):  # 0~6까지 7칸\n",
    "        if y == 0 or y == 6:  # 맨 위 또는 맨 아래\n",
    "            줄 += \"o \"\n",
    "        elif x == 0 or x == 6:  # 맨 왼쪽 또는 맨 오른쪽\n",
    "            줄 += \"o \"\n",
    "        else:\n",
    "            줄 += \"x \"\n",
    "    print(줄)"
   ]
  },
  {
   "cell_type": "code",
   "execution_count": null,
   "id": "7c1536cb",
   "metadata": {},
   "outputs": [],
   "source": [
    "문제 1) 사용자로부터 10개의 정수를 입력받아 리스트에 저장한 후,\n",
    "그 중에서 50보다 큰 수만 출력하는 프로그램을 작성하세요."
   ]
  },
  {
   "cell_type": "code",
   "execution_count": 18,
   "id": "d4db70d8",
   "metadata": {},
   "outputs": [
    {
     "name": "stdout",
     "output_type": "stream",
     "text": [
      "숫자를 입력해 주세요.\n",
      "50보다 큰 수: [56, 59, 71, 82, 64]\n"
     ]
    }
   ],
   "source": [
    "받은수 = []\n",
    "print('숫자를 입력해 주세요.')\n",
    "for a in range(10):\n",
    "    입력 = int(input(f'{a+1}번째 : '))\n",
    "    받은수.append(입력)\n",
    "\n",
    "\n",
    "결과 = []\n",
    "\n",
    "for 입력 in 받은수:\n",
    "    if 입력 > 50:\n",
    "        결과.append(입력)\n",
    "\n",
    "print('50보다 큰 수:', 결과)"
   ]
  },
  {
   "cell_type": "code",
   "execution_count": null,
   "id": "42fa732f",
   "metadata": {},
   "outputs": [],
   "source": [
    "문제 2) if/else문을 사용하여 ID와 비밀번호를 입력하고, 둘 다 맞으면 \"로그인 성공!\", 틀리면 \"ID 또는 비밀번호가 틀렸습니다.\" 를 출력하세요. \n",
    "※ ID는 \"pyson-user1\", 비밀번호는 \"pysonissodifficult1234!\""
   ]
  },
  {
   "cell_type": "code",
   "execution_count": 20,
   "id": "37ee41da",
   "metadata": {},
   "outputs": [
    {
     "name": "stdout",
     "output_type": "stream",
     "text": [
      "컴퓨터에 접속합니다. ID 와 비밀번호를 입력해주세요.\n",
      "ID 또는 비밀번호가 틀렸습니다.\n"
     ]
    }
   ],
   "source": [
    "print(\"컴퓨터에 접속합니다. ID 와 비밀번호를 입력해주세요.\")\n",
    "\n",
    "id = \"pyson-user1\"\n",
    "비번 = \"pysonissodifficult1234!\"\n",
    "\n",
    "입력id = input(\"ID를 입력하세요: \")\n",
    "입력비번 = input(\"비밀번호를 입력하세요: \")\n",
    "\n",
    "if 입력id == id and 입력비번 == 비번:\n",
    "    print(\"로그인 성공!\")\n",
    "else:\n",
    "    print(\"ID 또는 비밀번호가 틀렸습니다.\")"
   ]
  },
  {
   "cell_type": "code",
   "execution_count": null,
   "id": "eada02ed",
   "metadata": {},
   "outputs": [],
   "source": [
    "문제 3) while문을 사용하여 10부터 1까지 거꾸로 출력하고, 마지막에 \"발사!\"를 출력하세요."
   ]
  },
  {
   "cell_type": "code",
   "execution_count": 17,
   "id": "7f39fe52",
   "metadata": {},
   "outputs": [
    {
     "name": "stdout",
     "output_type": "stream",
     "text": [
      "10\n",
      "9\n",
      "8\n",
      "7\n",
      "6\n",
      "5\n",
      "4\n",
      "3\n",
      "2\n",
      "1\n",
      "발사!\n"
     ]
    }
   ],
   "source": [
    "count= 10\n",
    "while count >= 1:\n",
    "    print(count)\n",
    "    count -= 1\n",
    "    \n",
    "print(\"발사!\")\n",
    "    "
   ]
  },
  {
   "cell_type": "code",
   "execution_count": null,
   "id": "594d6298",
   "metadata": {},
   "outputs": [],
   "source": [
    "문제 4) 사용자로부터 정수 n을 입력받아,\n",
    "n x n 크기의 정사각형 모양에서 가장자리만 별(*)이고 내부는 공백으로 출력하는 프로그램을 작성하세요.\n",
    "<예시>\n",
    "정수를 입력하세요: 5\n",
    "*****\n",
    "*   *\n",
    "*   *\n",
    "*   *\n",
    "*****\n"
   ]
  },
  {
   "cell_type": "code",
   "execution_count": null,
   "id": "2384db5e",
   "metadata": {},
   "outputs": [],
   "source": []
  },
  {
   "cell_type": "code",
   "execution_count": null,
   "id": "41ad6a7f",
   "metadata": {},
   "outputs": [],
   "source": [
    "문제 5) 숫자 맞추기 게임 (2인용 버전)\n",
    "한 사람이 숫자를 정하고, 다른 사람이 맞춰보세요!\n",
    "\n",
    "조건\n",
    "\n",
    "input() 함수만 사용해서 입력을 받습니다.\n",
    "\n",
    "조건문(if, elif, else)만 사용해서 처리하세요.\n",
    "\n",
    "break를 사용해서 멈출수 있어야합니다\n",
    "\n",
    "출력문 제공\n",
    "\n",
    "print(\"🎯 숫자 맞추기 게임 (2인용 버전)\")\n",
    "print(\"한 사람이 숫자를 정하고, 다른 사람이 맞춰보세요!\")\n",
    "print(\"숫자를 정한 사람은 다른 사람이 보지 않을 때 입력하세요.\")\n",
    "\n",
    "# 첫 번째 사람이 정답 숫자를 직접 입력합니다\n",
    "answer = input(\"정답 숫자를 입력하세요 (1~100): \")\n",
    "# 입력한 숫자는 문자(문자열)로 저장됩니다\n",
    "\n",
    "# 시도한 횟수를 기록하기 위한 변수입니다 (처음엔 0)\n",
    "tries = 0\n"
   ]
  },
  {
   "cell_type": "code",
   "execution_count": null,
   "id": "1e514f10",
   "metadata": {},
   "outputs": [],
   "source": []
  },
  {
   "cell_type": "code",
   "execution_count": null,
   "id": "ba9893ca",
   "metadata": {},
   "outputs": [],
   "source": [
    "문제6) 체스판 무늬 그리기\n",
    "\n",
    "문제 설명\n",
    "O와 X가 번갈아 나타나는 체스판 무늬를 size x size 크기로 그려보세요.\n",
    "\n",
    "요구사항\n",
    "size = 8과 같이 변수를 사용해 크기를 조절할 수 있어야 합니다.\n",
    "줄 번호(i)와 칸 번호(j)의 합이 짝수인지 홀수인지에 따라 문자가 바뀝니다.\n",
    "\n",
    "size = 8 일 때의 출력 예시:\n",
    "\n",
    "OXOXOXOX\n",
    "XOXOXOXO\n",
    "OXOXOXOX\n",
    "XOXOXOXO\n",
    "OXOXOXOX\n",
    "XOXOXOXO\n",
    "OXOXOXOX\n",
    "XOXOXOXO\n"
   ]
  },
  {
   "cell_type": "code",
   "execution_count": null,
   "id": "2d77a286",
   "metadata": {},
   "outputs": [],
   "source": []
  },
  {
   "cell_type": "code",
   "execution_count": null,
   "id": "d1c0317f",
   "metadata": {},
   "outputs": [],
   "source": [
    "문제7) 영화를 추천해주는 간단한 프로그램을 만들어보세요.\n",
    "사용자가 입력한 장르에 따라 추천 영화를 출력해야 합니다.\n",
    "\n",
    "조건\n",
    "\n",
    "input() 함수만 사용해서 입력을 받습니다.\n",
    "\n",
    "조건문(if, elif, else)만 사용해서 처리하세요.\n",
    "\n",
    "최소 3가지 장르에 대해 각각 다른 영화를 추천하세요.\n",
    "\n",
    "추천할 영화는 print()로 출력합니다. (영화는 장르에 따라 직접 작성)\n",
    "\n",
    "출력문 제공\n",
    "\n",
    "# 영화 추천 프로그램 시작\n",
    "print(\"🎬 영화 추천 프로그램에 오신 걸 환영합니다!\")\n",
    "print(\"원하는 영화 장르를 입력하면 추천해드릴게요.\")\n",
    "print(\"예: 액션, 로맨스, 코미디, 공포\")\n",
    "\n",
    "# 사용자에게 장르를 입력받습니다\n",
    "장르 = input(\"어떤 장르의 영화를 보고 싶으신가요? \")\n"
   ]
  },
  {
   "cell_type": "code",
   "execution_count": null,
   "id": "36b5b0a9",
   "metadata": {},
   "outputs": [],
   "source": []
  },
  {
   "cell_type": "code",
   "execution_count": null,
   "id": "b3e89e4e",
   "metadata": {},
   "outputs": [],
   "source": [
    "문제8)\n",
    "속이 빈 다이아몬드 그리기\n",
    "\n",
    "문제 설명\n",
    "이번에는 조금 더 도전적인 문제입니다. size x size 크기 안에 속이 빈 다이아몬드(마름모) 모양의 테두리를 O로 그리고, 그 외의 부분은 X로 채워보세요.\n",
    "\n",
    "요구사항\n",
    "size = 9와 같이 홀수 변수를 사용해 크기를 조절할 수 있어야 합니다.\n",
    "다이아몬드의 중심 좌표로부터의 거리를 이용하면 조건을 간단하게 만들 수 있습니다.\n",
    "\n",
    "XXXXOXXXX\n",
    "XXXOXOXXX\n",
    "XXOXXXOXX\n",
    "XOXXXXXOX\n",
    "OXXXXXXXO\n",
    "XOXXXXXOX\n",
    "XXOXXXOXX\n",
    "XXXOXOXXX\n",
    "XXXXOXXXX\n"
   ]
  },
  {
   "cell_type": "code",
   "execution_count": null,
   "id": "14c082d9",
   "metadata": {},
   "outputs": [],
   "source": []
  },
  {
   "cell_type": "code",
   "execution_count": null,
   "id": "1b0f17b2",
   "metadata": {},
   "outputs": [],
   "source": [
    "문제 9)\n",
    "사용자가 계속해서 쇼핑 리스트에 물건을 추가할 수 있는 프로그램을 만드세요. \n",
    "사용자가 '끝'이라고 입력하면 프로그램이 종료되고, \n",
    "그때까지 입력된 모든 물건을 번호를 붙여 출력합니다.\n",
    "\n",
    "<<<실행 예시>>>\n",
    "\n",
    "쇼핑 리스트에 추가할 물건을 입력하세요 (종료하려면 '끝' 입력): 우유\n",
    "쇼핑 리스트에 추가할 물건을 입력하세요 (종료하려면 '끝' 입력): 계란\n",
    "쇼핑 리스트에 추가할 물건을 입력하세요 (종료하려면 '끝' 입력): 빵\n",
    "쇼핑 리스트에 추가할 물건을 입력하세요 (종료하려면 '끝' 입력): 끝\n",
    "\n",
    "--- 쇼핑 리스트 ---\n",
    "1. 우유\n",
    "2. 계란\n",
    "3. 빵\n"
   ]
  },
  {
   "cell_type": "code",
   "execution_count": null,
   "id": "71018f33",
   "metadata": {},
   "outputs": [],
   "source": []
  },
  {
   "cell_type": "code",
   "execution_count": null,
   "id": "2bee38ff",
   "metadata": {},
   "outputs": [],
   "source": [
    "문제10) 🎯 문제: “타겟 패턴 만들기” 🎯\n",
    "\n",
    "(Bullseye pattern / 과녁 무늬)\n",
    "\n",
    "                          XXXXXXX      \n",
    "                          XOOOOOX  \n",
    "                          XOXXXOX  \n",
    "                          XOXOXOX  \n",
    "                          XOXXXOX  \n",
    "                          XOOOOOX  \n",
    "                           XXXXXXX\n",
    "\n",
    "✅ 문제 설명\n",
    "\n",
    "size가 홀수인 정사각형 형태(예: 7x7, 9x9 등)로,\n",
    "중앙에서부터 바깥으로 갈수록 O → X → O → X … 형태로 동심원 무늬처럼 출력되는 패턴을 만들어 보세요.\n",
    "\n",
    "\n",
    "            •\tsize는 반드시 홀수여야 한다. (예: 5, 7, 9 등)\n",
    "\t•\t가장 바깥쪽은 X 그 안쪽은 O,  그다음은 다시 X, 이런 식으로 안쪽-바깥쪽 레이어가 번갈아가며 출력된다.\n",
    "\t•\t각 칸의 문자 결정은 “그 칸이 중심으로부터 얼마나 떨어져 있냐”에 따라 달라진다.\n",
    "\t•\t중심 좌표는 size // 2  "
   ]
  },
  {
   "cell_type": "code",
   "execution_count": null,
   "id": "e01c5a1d",
   "metadata": {},
   "outputs": [],
   "source": []
  }
 ],
 "metadata": {
  "kernelspec": {
   "display_name": "Python 3",
   "language": "python",
   "name": "python3"
  },
  "language_info": {
   "codemirror_mode": {
    "name": "ipython",
    "version": 3
   },
   "file_extension": ".py",
   "mimetype": "text/x-python",
   "name": "python",
   "nbconvert_exporter": "python",
   "pygments_lexer": "ipython3",
   "version": "3.13.5"
  }
 },
 "nbformat": 4,
 "nbformat_minor": 5
}
