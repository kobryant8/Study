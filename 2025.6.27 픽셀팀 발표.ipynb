{
 "cells": [
  {
   "cell_type": "code",
   "execution_count": 1,
   "id": "8d0c5b6c",
   "metadata": {},
   "outputs": [
    {
     "name": "stdout",
     "output_type": "stream",
     "text": [
      "4\n"
     ]
    }
   ],
   "source": [
    "#문제 2번\n",
    "\n",
    "문자열 = '짝홀짝홀짝홀짝홀짝'\n",
    "print(문자열.count('홀'))"
   ]
  },
  {
   "cell_type": "code",
   "execution_count": null,
   "id": "529e243a",
   "metadata": {},
   "outputs": [],
   "source": [
    "#문제 3번\n",
    "\n",
    "이름1 = '아이유'\n",
    "나이1 = 25\n",
    "이름2 = '서태지'\n",
    "나이2 = 48\n",
    "\n",
    "print (f'이름 : {이름1} 나이 : {나이1}')\n",
    "print (f'이름 : {이름2} 나이 : {나이2}')  "
   ]
  },
  {
   "cell_type": "code",
   "execution_count": null,
   "id": "f4f0b3e1",
   "metadata": {},
   "outputs": [],
   "source": [
    "#문제 5번\n",
    "\n",
    "리스트 = [\"쌈장\", \"불고기\", \"삼겹살\", \"된장\", \"간고등어\"]\n",
    "size = 0\n",
    "대상 = ''\n",
    "for item in 리스트:\n",
    "    if size < len(item):\n",
    "        size = len(item)\n",
    "        대상 = item\n",
    "print(f'가장 긴 문자열은 {대상} 입니다.')"
   ]
  },
  {
   "cell_type": "code",
   "execution_count": null,
   "id": "59d3735a",
   "metadata": {},
   "outputs": [],
   "source": [
    "#문제 7번\n",
    "\n",
    "숫자 = int(input(\"숫자를 입력하세요: \"))\n",
    "결과 = 숫자 + 10\n",
    "print(결과)"
   ]
  },
  {
   "cell_type": "code",
   "execution_count": null,
   "id": "3edf4f65",
   "metadata": {},
   "outputs": [],
   "source": [
    "#문제 10번\n",
    "\n",
    "def 반복함수(문자열):\n",
    "    for i in range(10):\n",
    "        print(문자열 * 1)\n",
    "        \n",
    "반복함수('비트코인')"
   ]
  }
 ],
 "metadata": {
  "kernelspec": {
   "display_name": "Python 3",
   "language": "python",
   "name": "python3"
  },
  "language_info": {
   "codemirror_mode": {
    "name": "ipython",
    "version": 3
   },
   "file_extension": ".py",
   "mimetype": "text/x-python",
   "name": "python",
   "nbconvert_exporter": "python",
   "pygments_lexer": "ipython3",
   "version": "3.13.5"
  }
 },
 "nbformat": 4,
 "nbformat_minor": 5
}
